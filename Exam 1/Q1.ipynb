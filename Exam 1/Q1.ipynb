{
 "cells": [
  {
   "cell_type": "markdown",
   "metadata": {},
   "source": [
    "# Question 1\n",
    "\n",
    "**Find differentiable functions $w = f(z)$ whose imaginary part is:**\n",
    "\n",
    "**(a)** $v(x, y) = (x + 2)y$"
   ]
  },
  {
   "cell_type": "markdown",
   "metadata": {
    "vscode": {
     "languageId": "plaintext"
    }
   },
   "source": [
    "Then,\n",
    "\n",
    "$$\n",
    "v_y = x + 2\n",
    "$$\n",
    "\n",
    "$$\n",
    "v_x = y\n",
    "$$"
   ]
  },
  {
   "cell_type": "markdown",
   "metadata": {
    "vscode": {
     "languageId": "plaintext"
    }
   },
   "source": [
    "We have that $f$ is differentiable. So, by Cauchy-Riemann,\n",
    "\n",
    "$$\n",
    "v_y = u_x\n",
    "$$\n",
    "\n",
    "Then,\n",
    "\n",
    "$$\n",
    "u_x = x + 2\n",
    "$$\n",
    "\n",
    "$$\n",
    "u = \\int x + 2 dx\n",
    "$$\n",
    "\n",
    "$$\n",
    "u = {1 \\over 2}x^2 + 2x + C_1(y)\n",
    "$$"
   ]
  },
  {
   "cell_type": "markdown",
   "metadata": {
    "vscode": {
     "languageId": "plaintext"
    }
   },
   "source": [
    "$$\n",
    "u_y = {d \\over dy} \\left( {1 \\over 2}x^2 + 2x + C_1(y) \\right)\n",
    "$$\n",
    "\n",
    "$$\n",
    "u_y = C_1'(y)\n",
    "$$\n",
    "\n",
    "By Cauchy Riemann,\n",
    "\n",
    "$$\n",
    "v_x = -u_y\n",
    "$$\n",
    "\n",
    "So,\n",
    "\n",
    "$$\n",
    "C_1'(y) = -y\n",
    "$$\n",
    "\n",
    "$$\n",
    "C_1(y) = \\int -y dy\n",
    "$$\n",
    "\n",
    "$$\n",
    "C_1(y) = -{1 \\over 2}y^2 + C_2\n",
    "$$\n",
    "\n",
    "So,\n",
    "\n",
    "$$\n",
    "u = {1 \\over 2}x^2 + 2x + -{1 \\over 2}y^2 + C_2\n",
    "$$\n",
    "\n",
    "We have that $u$ is real valued. So, $C_2 \\in \\R$."
   ]
  },
  {
   "cell_type": "markdown",
   "metadata": {},
   "source": [
    "The partials are,\n",
    "\n",
    "$$\n",
    "v_y = x + 2\n",
    "$$\n",
    "\n",
    "$$\n",
    "v_x = y\n",
    "$$\n",
    "\n",
    "$$\n",
    "u_x = x + 2\n",
    "$$\n",
    "\n",
    "$$\n",
    "u_y = -y\n",
    "$$\n",
    "\n",
    "These are polynomials, so they are continuous for all $x$, $y$. So, derivative of $f$ is defined for all $x$, $y$, and it is given by,\n",
    "\n",
    "$$\n",
    "f' = u_x + iv_x = (x + 2) + yi\n",
    "$$"
   ]
  },
  {
   "cell_type": "markdown",
   "metadata": {},
   "source": [
    "So, for any $C_2 \\in \\mathbb{R}$, differentiable functions with the specified imaginary part are given by,\n",
    "\n",
    "$$\n",
    "f = \\left( {1 \\over 2}x^2 + 2x + -{1 \\over 2}y^2 + C_2 \\right) + i((x + 2)y)\n",
    "$$"
   ]
  },
  {
   "cell_type": "markdown",
   "metadata": {},
   "source": [
    "**(b)**\n",
    "\n",
    "$$\n",
    "v = {x \\over x^2 + y^2}\n",
    "$$"
   ]
  },
  {
   "cell_type": "markdown",
   "metadata": {},
   "source": [
    "Then,\n",
    "\n",
    "$$\n",
    "v_y = {d \\over dy}x(x^2 + y^2)^{-1}\n",
    "$$\n",
    "\n",
    "$$\n",
    "v_y = -x(x^2 + y^2)^{-2}2y\n",
    "$$\n",
    "\n",
    "$$\n",
    "v_y = -{2xy \\over (x^2 + y^2)^2}\n",
    "$$\n",
    "\n",
    "Also,\n",
    "\n",
    "$$\n",
    "v_x = {d \\over dx}x(x^2 + y^2)^{-1}\n",
    "$$\n",
    "\n",
    "$$\n",
    "v_x = (x^2 + y^2)^{-1} + x{d \\over dx}(x^2 + y^2)^{-1}\n",
    "$$\n",
    "\n",
    "$$\n",
    "v_x = (x^2 + y^2)^{-1} + x(-1)(x^2 + y^2)^{-2}2x\n",
    "$$\n",
    "\n",
    "$$\n",
    "v_x = {1 \\over x^2 + y^2} -{2x^2 \\over (x^2 + y^2)^{2}}\n",
    "$$"
   ]
  },
  {
   "cell_type": "markdown",
   "metadata": {},
   "source": [
    "We have that $f$ is differentiable. Then, by Cauchy-Riemann,\n",
    "\n",
    "$$\n",
    "u_x = v_y\n",
    "$$\n",
    "\n",
    "Then,\n",
    "\n",
    "$$\n",
    "u_x = -{2xy \\over (x^2 + y^2)^2}\n",
    "$$\n",
    "\n",
    "Then,\n",
    "\n",
    "$$\n",
    "u = \\int -{2xy \\over (x^2 + y^2)^2} dx\n",
    "$$"
   ]
  },
  {
   "cell_type": "markdown",
   "metadata": {},
   "source": [
    "Let,\n",
    "\n",
    "$$\n",
    "w = x^2 + y^2\n",
    "$$\n",
    "\n",
    "$$\n",
    "{dw \\over dx} = 2x\n",
    "$$\n",
    "\n",
    "Then,\n",
    "\n",
    "$$\n",
    "u = \\int -{y \\over w^2}dw\n",
    "$$\n",
    "\n",
    "$$\n",
    "u = \\int -yw^{-2}dw\n",
    "$$\n",
    "\n",
    "$$\n",
    "u = yw^{-1} + C_1(y)\n",
    "$$\n",
    "\n",
    "$$\n",
    "u = {y \\over x^2 + y^2} + C_1(y)\n",
    "$$\n",
    "\n",
    "And, $C_1(y)$ is real-valued."
   ]
  },
  {
   "cell_type": "markdown",
   "metadata": {},
   "source": [
    "Then,\n",
    "\n",
    "$$\n",
    "u_y = {d\\over dy}\\left( {y \\over x^2 + y^2} + C_1(y) \\right)\n",
    "$$\n",
    "\n",
    "$$\n",
    "u_y = {1 \\over x^2 + y^2} + y{d\\over dy}\\left( (x^2 + y^2)^{-1} \\right) + C_1'(y)\n",
    "$$\n",
    "\n",
    "$$\n",
    "u_y = {1 \\over x^2 + y^2} + y(-1) \\left( (x^2 + y^2)^{-2}2y \\right) + C_1'(y)\n",
    "$$\n",
    "\n",
    "$$\n",
    "u_y = {1 \\over x^2 + y^2} - {2y^2 \\over (x^2 + y^2)^{2}} + C_1'(y)\n",
    "$$"
   ]
  },
  {
   "cell_type": "markdown",
   "metadata": {},
   "source": [
    "By Cauchy-Riemann,\n",
    "\n",
    "$$\n",
    "u_y = -v_x\n",
    "$$\n",
    "\n",
    "$$\n",
    "{1 \\over x^2 + y^2} -{2x^2 \\over (x^2 + y^2)^{2}} = -\\left({1 \\over x^2 + y^2} - {2y^2 \\over (x^2 + y^2)^{2}} + C_1'(y) \\right)\n",
    "$$\n",
    "\n",
    "$$\n",
    "{1 \\over x^2 + y^2} -{2x^2 \\over (x^2 + y^2)^{2}} = -{1 \\over x^2 + y^2} + {2y^2 \\over (x^2 + y^2)^{2}} - C_1'(y)\n",
    "$$\n",
    "\n",
    "$$\n",
    "C_1'(y) = \n",
    "{2y^2 \\over (x^2 + y^2)^{2}} \n",
    "-{2 \\over x^2 + y^2}\n",
    "+ {2x^2 \\over (x^2 + y^2)^{2}}\n",
    "$$"
   ]
  },
  {
   "cell_type": "markdown",
   "metadata": {},
   "source": [
    "$$\n",
    "C_1(y) = \\int\n",
    "{2y^2 \\over (x^2 + y^2)^{2}} \n",
    "-{2 \\over x^2 + y^2}\n",
    "+ {2x^2 \\over (x^2 + y^2)^{2}}\n",
    "dy\n",
    "$$\n",
    "\n",
    "$$\n",
    "C_1(y) = \\int\n",
    "{2y^2 \\over (x^2 + y^2)^{2}} \n",
    "-{1 \\over x^2 + y^2}\n",
    "+ {2x^2 \\over (x^2 + y^2)^{2}}\n",
    "-{1 \\over x^2 + y^2}\n",
    "dy\n",
    "$$\n",
    "\n",
    "$$\n",
    "C_1(y) = \\int\n",
    "{2y^2 \\over (x^2 + y^2)^{2}} \n",
    "-{1 \\over x^2 + y^2}dy\n",
    "+ \\int\n",
    "{2x^2 \\over (x^2 + y^2)^{2}}\n",
    "-{1 \\over x^2 + y^2}\n",
    "dy\n",
    "$$\n",
    "\n",
    "$$\n",
    "C_1(y) = \n",
    "-\\int\n",
    "{1 \\over x^2 + y^2}\n",
    "-{2y^2 \\over (x^2 + y^2)^{2}} \n",
    "dy\n",
    "- \\int\n",
    "{1 \\over x^2 + y^2}\n",
    "-{2x^2 \\over (x^2 + y^2)^{2}}\n",
    "dy\n",
    "$$\n",
    "\n",
    "We just did this integral in reverse,\n",
    "\n",
    "$$\n",
    "C_1(y) = \n",
    "- {y \\over x^2 + y^2}\n",
    "- {x \\over x^2 + y^2}\n",
    "+ C_2\n",
    "$$"
   ]
  },
  {
   "cell_type": "markdown",
   "metadata": {},
   "source": [
    "We have that $C_1$ is a function of $x$ and $y$. Under the assumption that $f$ is differentiable, we showed that it is a function of $y$. So, there are no differentiable functions with this complex part."
   ]
  }
 ],
 "metadata": {
  "language_info": {
   "name": "python"
  }
 },
 "nbformat": 4,
 "nbformat_minor": 2
}
