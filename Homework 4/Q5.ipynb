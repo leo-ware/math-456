{
 "cells": [
  {
   "cell_type": "markdown",
   "metadata": {},
   "source": [
    "Pages 76 & 77: problem 5"
   ]
  },
  {
   "cell_type": "markdown",
   "metadata": {},
   "source": [
    "**5. According to Example 2, Sec. 24, the function,**\n",
    "\n",
    "$$\n",
    "g(z) = \\sqrt{r}e^{i\\theta/2} (r \\gt 0, -\\pi \\lt \\theta \\lt \\pi)\n",
    "$$\n",
    "\n",
    "**is analytic in its domain of definition with derivative,**\n",
    "\n",
    "$$\n",
    "g'(z) = {1 \\over 2g(z)}\n",
    "$$\n",
    "\n",
    "**Show that the composite function $G(z) = g(2z - 2 + i)$ is analytic in the half plane $x \\gt 1$, with derivative**\n",
    "\n",
    "$$\n",
    "G'(z) = {1 \\over g(2z - 2 + i)}\n",
    "$$"
   ]
  },
  {
   "cell_type": "markdown",
   "metadata": {},
   "source": [
    "Consider the quantity,\n",
    "\n",
    "$$\n",
    "2z - 2 + i = 2(x + yi) - 2 + i\n",
    "$$\n",
    "\n",
    "$$\n",
    "2z - 2 + i = 2(x - 1) + (y + 1)i\n",
    "$$\n",
    "\n",
    "$$\n",
    "\\operatorname{Re}(2z - 2 + i) = 2(x - 1)\n",
    "$$\n",
    "\n",
    "We have that $x \\gt 1$. So,\n",
    "\n",
    "$$\n",
    "2(x - 1) \\gt 0\n",
    "$$\n",
    "\n",
    "So,\n",
    "\n",
    "$$\n",
    "\\operatorname{Re}(2z - 2 + i) \\gt 0\n",
    "$$\n",
    "\n",
    "Let,\n",
    "\n",
    "$$\n",
    "\\rho e^{i\\theta} = 2z - 2 + i\n",
    "$$\n",
    "\n",
    "Since $\\operatorname{Re}(2z - 2 + i) \\gt 0$,\n",
    "\n",
    "$$\n",
    "\\rho \\gt 0\n",
    "$$\n",
    "\n",
    "$$\n",
    "\\theta \\in [-\\pi/2, \\pi/2]\n",
    "$$"
   ]
  },
  {
   "cell_type": "markdown",
   "metadata": {},
   "source": [
    "Then, we can apply the provided formula for the derivative of $g$.\n",
    "\n",
    "$$\n",
    "g'(2z - 2 + i) = {1 \\over 2g(2z - 2 + i)}\n",
    "$$"
   ]
  },
  {
   "cell_type": "markdown",
   "metadata": {},
   "source": [
    "Take the derivative,\n",
    "\n",
    "$$\n",
    "{d \\over dz}(2z - 2 + i) = 2\n",
    "$$\n",
    "\n",
    "Then, since both intermediate derivatives exist, by the chain rule,\n",
    "\n",
    "$$\n",
    "G'(z) = g'(2z - 2 + i){d \\over dz}(2z - 2 + i)\n",
    "$$\n",
    "\n",
    "Then,\n",
    "\n",
    "$$\n",
    "G'(z) = {1 \\over 2g(2z - 2 + i)}2\n",
    "$$\n",
    "\n",
    "$$\n",
    "G'(z) = {1 \\over g(2z - 2 + i)}\n",
    "$$"
   ]
  },
  {
   "cell_type": "markdown",
   "metadata": {},
   "source": []
  }
 ],
 "metadata": {
  "language_info": {
   "name": "python"
  }
 },
 "nbformat": 4,
 "nbformat_minor": 2
}
