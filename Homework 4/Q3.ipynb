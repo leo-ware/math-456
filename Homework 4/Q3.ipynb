{
 "cells": [
  {
   "cell_type": "markdown",
   "metadata": {},
   "source": [
    "Pages 76 & 77: problem 2 (c)"
   ]
  },
  {
   "cell_type": "markdown",
   "metadata": {},
   "source": [
    "**2. With the aid of the theorem in Sec. 21, show that each of these functions is nowhere analytic:**\n",
    "\n",
    "**(c) $f(z) = e^ye^{ix}$**"
   ]
  },
  {
   "cell_type": "markdown",
   "metadata": {},
   "source": [
    "By Euler's formula,\n",
    "\n",
    "$$\n",
    "f(z) = e^y(\\cos(x) + i\\sin(x))\n",
    "$$\n",
    "\n",
    "Then,\n",
    "\n",
    "$$\n",
    "f(z) = e^y\\cos(x) + ie^y\\sin(x)\n",
    "$$\n",
    "\n",
    "Let $u$ and $v$ be real valued functions such that $f(z) = u(z) + iv(z)$. Then,\n",
    "\n",
    "$$\n",
    "u(z) = e^y\\cos(x)\n",
    "$$\n",
    "\n",
    "$$\n",
    "v(z) = e^y\\sin(x)\n",
    "$$\n",
    "\n",
    "Take the partials.\n",
    "\n",
    "$$\n",
    "u_x(z) = {d \\over dx}e^y\\cos(x) = -e^y\\sin(x)\n",
    "$$\n",
    "\n",
    "$$\n",
    "u_y(z) = {d \\over dy}e^y\\cos(x) = e^y\\cos(x)\n",
    "$$\n",
    "\n",
    "$$\n",
    "v_x(z) = {d \\over dx}e^y\\sin(x) = e^y\\cos(x)\n",
    "$$\n",
    "\n",
    "$$\n",
    "v_y(z) = {d \\over dy}e^y\\sin(x) = e^y\\sin(x)\n",
    "$$\n",
    "\n",
    "Assume $f$ is differentiable. Then, by the Cauchy-Riemann equations, $u_x = v_y$ and $v_x = -u_y$. Then,\n",
    "\n",
    "$$\n",
    "-e^y\\sin(x) = e^y\\sin(x)\n",
    "$$\n",
    "\n",
    "Then,\n",
    "\n",
    "$$\n",
    "e^y\\sin(x) = 0\n",
    "$$\n",
    "\n",
    "Then,\n",
    "\n",
    "$$\n",
    "\\sin(x) = 0\n",
    "$$\n",
    "\n",
    "Then, for some integer $n$,\n",
    "\n",
    "$$\n",
    "x = \\pi n\n",
    "$$\n",
    "\n",
    "So, the function is differentiable at at most these points. But, there is no subset of this set which is open. In the $x-y$ plane, these are evenly spaced vertical lines. So, $f$ is not differentialbe on any open set. Therefore $f$ is analytic nowhere."
   ]
  },
  {
   "cell_type": "markdown",
   "metadata": {},
   "source": []
  }
 ],
 "metadata": {
  "language_info": {
   "name": "python"
  }
 },
 "nbformat": 4,
 "nbformat_minor": 2
}
