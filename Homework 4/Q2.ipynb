{
 "cells": [
  {
   "cell_type": "markdown",
   "metadata": {},
   "source": [
    "Pages 76 & 77: problem 1 (d)"
   ]
  },
  {
   "cell_type": "markdown",
   "metadata": {},
   "source": [
    "**1. Apply the theorem in Sec. 23 to verify that each of these functions is entire:**\n",
    "\n",
    "**(d) $f(z) = (z^2 - 2)e^{-x}e^{-iy}$**"
   ]
  },
  {
   "cell_type": "markdown",
   "metadata": {},
   "source": [
    "By Euler's identity,\n",
    "\n",
    "$$\n",
    "f(z) = (z^2 - 2)e^{-x}(\\cos(-y) + i\\sin(-y))\n",
    "$$\n",
    "\n",
    "Then,\n",
    "\n",
    "$$\n",
    "f(z) = ((x + yi)^2 - 2)e^{-x}(\\cos(-y) + i\\sin(-y))\n",
    "$$\n",
    "\n",
    "$$\n",
    "f(z) = ((x^2 - y^2) + 2xyi - 2)e^{-x}(\\cos(-y) + i\\sin(-y))\n",
    "$$\n",
    "\n",
    "$$\n",
    "f(z) = e^{-x}((x^2 - y^2 - 2) + 2xyi)(\\cos(-y) + i\\sin(-y))\n",
    "$$\n",
    "\n",
    "$$\n",
    "f(z) = e^{-x}((x^2 - y^2 - 2)\\cos(-y) - 2xy\\sin(-y)) + e^{-x}(2xy\\cos(-y) + (x^2 - y^2 - 2)\\sin(-y))i\n",
    "$$\n",
    "\n",
    "$$\n",
    "f(z) = (e^{-x}(x^2 - y^2 - 2)\\cos(-y) - e^{-x}2xy\\sin(-y)) + (e^{-x}2xy\\cos(-y) + e^{-x}(x^2 - y^2 - 2)\\sin(-y))i\n",
    "$$\n",
    "\n",
    "Let $u(z)$ and $v(z)$ be real-valued functions such that,\n",
    "\n",
    "$$\n",
    "f(z) = u(z) + iv(z)\n",
    "$$\n",
    "\n",
    "Then,\n",
    "\n",
    "$$\n",
    "u(z) = e^{-x}(x^2 - y^2 - 2)\\cos(-y) - e^{-x}2xy\\sin(-y)\n",
    "$$\n",
    "\n",
    "$$\n",
    "v(z) = e^{-x}2xy\\cos(-y) + e^{-x}(x^2 - y^2 - 2)\\sin(-y)\n",
    "$$\n",
    "\n"
   ]
  },
  {
   "cell_type": "markdown",
   "metadata": {},
   "source": [
    "Take the partials.\n",
    "\n",
    "$$\n",
    "u_x(z) = {d \\over dx} e^{-x}(x^2 - y^2 - 2)\\cos(-y) - {d \\over dx}e^{-x}2xy\\sin(-y)\n",
    "$$\n",
    "\n",
    "$$\n",
    "u_x(z) = \\cos(-y)(2xe^{-x} - (x^2 - y^2 - 2)e^{-x}) - \\sin(-y)(2ye^{-x} - 2xye^{-x})\n",
    "$$\n",
    "\n",
    "$$\n",
    "u_x(z) = e^{-x}( (2x - (x^2 - y^2 - 2))\\cos(-y) + (2xy - 2y)\\sin(-y) )\n",
    "$$"
   ]
  },
  {
   "cell_type": "markdown",
   "metadata": {},
   "source": [
    "$$\n",
    "u_y(z) = {d \\over dy}e^{-x}(x^2 - y^2 - 2)\\cos(-y) - {d \\over dy}e^{-x}2xy\\sin(-y)\n",
    "$$\n",
    "\n",
    "$$\n",
    "u_y(z) = e^{-x}(\\sin(-y)(x^2-y^2-2) + (-2y)\\cos(-y)) - e^{-x}(-2xy\\cos(-y) + 2x\\sin(-y))\n",
    "$$\n",
    "\n",
    "$$\n",
    "u_y(z) = -e^{-x}(\\sin(-y)(-1)(x^2-y^2-2) + 2y\\cos(-y) - 2xy\\cos(-y) + 2x\\sin(-y))\n",
    "$$\n",
    "\n",
    "$$\n",
    "u_y(z) = -e^{-x}(\\sin(-y)(-1)(x^2-y^2-2) + 2x\\sin(-y) + 2y\\cos(-y) - 2xy\\cos(-y))\n",
    "$$\n",
    "\n",
    "$$\n",
    "u_y(z) = -e^{-x}((2x - (x^2-y^2-2))\\sin(-y) + (2y - 2xy)\\cos(-y))\n",
    "$$"
   ]
  },
  {
   "cell_type": "markdown",
   "metadata": {},
   "source": [
    "$$\n",
    "v_x(z) = {d \\over dx}e^{-x}2xy\\cos(-y) + {d \\over dx}e^{-x}(x^2 - y^2 - 2)\\sin(-y)\n",
    "$$\n",
    "\n",
    "$$\n",
    "v_x(z) = \\cos(-y)(2ye^{-x} - 2xye^{-x}) + \\sin(-y)(2xe^{-x} - (x^2 - y^2 - 2)e^{-x})\n",
    "$$\n",
    "\n",
    "$$\n",
    "v_x(z) =e^{-x}(\\cos(-y)(2y - 2xy) + \\sin(-y)(2x - (x^2 - y^2 - 2)))\n",
    "$$"
   ]
  },
  {
   "cell_type": "markdown",
   "metadata": {},
   "source": [
    "$$\n",
    "v_y(z) = {d \\over dy}e^{-x}2xy\\cos(-y) + {d \\over dy}e^{-x}(x^2 - y^2 - 2)\\sin(-y)\n",
    "$$\n",
    "\n",
    "$$\n",
    "v_y(z) = e^{-x}(2x\\cos(-y) + 2xy\\sin(-y)) + e^{-x}((- 2y)\\sin(-y) - (x^2 - y^2 - 2)\\cos(-y))\n",
    "$$\n",
    "\n",
    "$$\n",
    "v_y(z) = e^{-x}(2x\\cos(-y) - (x^2 - y^2 - 2)\\cos(-y) + 2xy\\sin(-y) + (- 2y)\\sin(-y))\n",
    "$$\n",
    "\n",
    "$$\n",
    "v_y(z) = e^{-x}((2x - (x^2 - y^2 - 2))\\cos(-y) + (2xy - 2y)\\sin(-y))\n",
    "$$"
   ]
  },
  {
   "cell_type": "markdown",
   "metadata": {},
   "source": [
    "So, we have that,\n",
    "\n",
    "$$\n",
    "u_x(z) = e^{-x}( (2x - (x^2 - y^2 - 2))\\cos(-y) + (2xy - 2y)\\sin(-y) )\n",
    "$$\n",
    "\n",
    "$$\n",
    "v_y(z) = e^{-x}((2x - (x^2 - y^2 - 2))\\cos(-y) + (2xy - 2y)\\sin(-y))\n",
    "$$\n",
    "\n",
    "$$\n",
    "u_y(z) = -e^{-x}((2x - (x^2-y^2-2))\\sin(-y) + (2y - 2xy)\\cos(-y))\n",
    "$$\n",
    "\n",
    "$$\n",
    "v_x(z) =e^{-x}(\\cos(-y)(2y - 2xy) + \\sin(-y)(2x - (x^2 - y^2 - 2)))\n",
    "$$"
   ]
  },
  {
   "cell_type": "markdown",
   "metadata": {},
   "source": [
    "The exponential, sine and cosine functions are all continuous. So, are all polynomial functions. So, each of these partials can be reduced to sums and products of continuous functions, so each is continuous.\n",
    "\n",
    "We can see that the Cauchy-Riemann equations are satisfied.\n",
    "\n",
    "$$\n",
    "u_x = v_y\n",
    "$$\n",
    "\n",
    "$$\n",
    "u_v = -v_x\n",
    "$$\n",
    "\n",
    "We can conclude that the derivative exists for all $x$, $y$. This suffices to show that the function is analytic everywhere. This suffices to show that it is entire."
   ]
  },
  {
   "cell_type": "markdown",
   "metadata": {},
   "source": []
  }
 ],
 "metadata": {
  "language_info": {
   "name": "python"
  }
 },
 "nbformat": 4,
 "nbformat_minor": 2
}
