{
 "cells": [
  {
   "cell_type": "markdown",
   "metadata": {},
   "source": [
    "Pages 76 & 77: problem 7"
   ]
  },
  {
   "cell_type": "markdown",
   "metadata": {},
   "source": [
    "**7. Let a function $f$ be analytic everywhere in a domain $D$. Prove that if $f (z)$ is real-valued for all $z$ in $D$, then $f (z)$ must be constant throughout $D$.**"
   ]
  },
  {
   "cell_type": "markdown",
   "metadata": {},
   "source": [
    "Break $f$ into real an imaginary parts.\n",
    "\n",
    "$$\n",
    "f(z) = u(z) + v(z)i\n",
    "$$\n",
    "\n",
    "We have that,\n",
    "\n",
    "$$\n",
    "v(z) = 0\n",
    "$$\n",
    "\n",
    "Then,\n",
    "\n",
    "$$\n",
    "v_x(z) = 0\n",
    "$$\n",
    "\n",
    "$$\n",
    "v_y(z) = 0\n",
    "$$\n",
    "\n",
    "If $f$ is analytic on $D$, then $f$ is differentiable on $D$. Then, the Cauchy-Riemann equations must hold. So,\n",
    "\n",
    "$$\n",
    "u_x = v_y\n",
    "$$\n",
    "\n",
    "$$\n",
    "u_y = -v_x\n",
    "$$\n",
    "\n",
    "Then,\n",
    "\n",
    "$$\n",
    "u_x = 0\n",
    "$$\n",
    "\n",
    "$$\n",
    "u_y = 0\n",
    "$$\n",
    "\n",
    "Then,\n",
    "\n",
    "$$\n",
    "u = \\int 0 dx = \\int 0 dy\n",
    "$$\n",
    "\n",
    "$$\n",
    "u = c_1(y) = c_2(x)\n",
    "$$\n",
    "\n",
    "$$\n",
    "u = c\n",
    "$$\n",
    "\n",
    "So,\n",
    "\n",
    "$$\n",
    "f(z) = c\n",
    "$$"
   ]
  },
  {
   "cell_type": "markdown",
   "metadata": {},
   "source": []
  }
 ],
 "metadata": {
  "language_info": {
   "name": "python"
  }
 },
 "nbformat": 4,
 "nbformat_minor": 2
}
