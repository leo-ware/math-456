{
 "cells": [
  {
   "cell_type": "markdown",
   "metadata": {},
   "source": [
    "Pages 76 & 77: problem 4 (a, c)"
   ]
  },
  {
   "cell_type": "markdown",
   "metadata": {},
   "source": [
    "**4. In each case, determine the singular points of the function and state why the function is analytic everywhere else:**\n",
    "\n",
    "**(a) $f(z) = {2z + 1 \\over z(z^2 + 1)}$**"
   ]
  },
  {
   "cell_type": "markdown",
   "metadata": {},
   "source": [
    "Assume $f$ is defined. Then the denominator is nonzero.\n",
    "\n",
    "$$\n",
    "z(z^2 + 1) \\ne 0\n",
    "$$\n",
    "\n",
    "Then,\n",
    "\n",
    "$$\n",
    "z \\ne 0\n",
    "$$\n",
    "\n",
    "And,\n",
    "\n",
    "$$\n",
    "z^2 + 1 \\ne 0\n",
    "$$\n",
    "\n",
    "$$\n",
    "z^2 \\ne -1\n",
    "$$\n",
    "\n",
    "$$\n",
    "z \\ne i\n",
    "$$"
   ]
  },
  {
   "cell_type": "markdown",
   "metadata": {},
   "source": [
    "Take the derivative of $f$.\n",
    "\n",
    "$$\n",
    "f(z) = {2z + 1 \\over z^3 + z}\n",
    "$$\n",
    "\n",
    "$$\n",
    "f'(z) = {d \\over dz}\\left( (2z + 1)(z^3 + z)^{-1} \\right)\n",
    "$$\n",
    "\n",
    "$$\n",
    "f'(z) = (2z + 1){d \\over dz}(z^3 + z)^{-1} + (z^3 + z)^{-1}{d \\over dz}(2z + 1)\n",
    "$$\n",
    "\n",
    "$$\n",
    "f'(z) = (2z + 1)(-1)(z^3 + z)^{-2}(3z^2 + 1) + (z^3 + z)^{-1}2\n",
    "$$\n",
    "\n",
    "$$\n",
    "f'(z) = {2 \\over z^3 + z} - {(2z + 1)(3z^2 + 1) \\over (z^3 + z)^{2}}\n",
    "$$\n",
    "\n",
    "$$\n",
    "f'(z) = {2 \\over z(z^2 + 1)} - {(2z + 1)(3z^2 + 1) \\over (z(z^2 + 1))^{2}}\n",
    "$$\n",
    "\n",
    "This is defined when $z(z + 1) \\ne 0$. So, $f$ is differentiable everywhere except $z \\in \\{0, i\\}$. So, $f$ is analytic everywhere except those points. So, those are singular points of $f$."
   ]
  },
  {
   "cell_type": "markdown",
   "metadata": {},
   "source": [
    "**(c) $f(z) = {z^2 + 1 \\over (z + 2)(z^2 + 2z + 2)}$**"
   ]
  },
  {
   "cell_type": "markdown",
   "metadata": {},
   "source": [
    "$f$ is defined when,\n",
    "\n",
    "$$\n",
    "(z + 2)(z^2 + 2z + 2) \\ne 0\n",
    "$$\n",
    "\n",
    "Then,\n",
    "\n",
    "$$\n",
    "z + 2 \\ne 0\n",
    "$$\n",
    "\n",
    "$$\n",
    "z \\ne -2\n",
    "$$\n",
    "\n",
    "Also,\n",
    "\n",
    "$$\n",
    "(z^2 + 2z + 2) \\ne 0\n",
    "$$\n",
    "\n",
    "Apply the quadratic formula,\n",
    "\n",
    "$$\n",
    "z \\ne {-(2) \\pm \\sqrt{(2)^2 - 4(1)(2)} \\over 2(1)}\n",
    "$$\n",
    "\n",
    "$$\n",
    "z \\ne {-2 \\pm \\sqrt{-4} \\over 2}\n",
    "$$\n",
    "\n",
    "$$\n",
    "z \\ne {-2 \\pm 2i \\over 2}\n",
    "$$\n",
    "\n",
    "$$\n",
    "z \\ne -1 \\pm i\n",
    "$$\n",
    "\n",
    "$$\n",
    "z \\not\\in \\{-1 -i, -1 + 1\\}\n",
    "$$\n",
    "\n",
    "So,\n",
    "\n",
    "$$\n",
    "z \\not\\in \\{-2, -1 -i, -1 + 1\\}\n",
    "$$"
   ]
  },
  {
   "cell_type": "markdown",
   "metadata": {},
   "source": [
    "$f$ is the ratio of two polynomials. If it is defined, then it is differentiable. $f$ is defined everywhere except $z \\in \\{-2, -1 -i, -1 + 1\\}$. So, $f$ is differentiable everywhere except those points. So, $f$ is analytic everywhere except those points. So,$z \\in \\{-2, -1 -i, -1 + 1\\}$ are singularities of $f$."
   ]
  },
  {
   "cell_type": "markdown",
   "metadata": {},
   "source": []
  }
 ],
 "metadata": {
  "language_info": {
   "name": "python"
  }
 },
 "nbformat": 4,
 "nbformat_minor": 2
}
