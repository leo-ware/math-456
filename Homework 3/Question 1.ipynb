{
 "cells": [
  {
   "cell_type": "markdown",
   "metadata": {},
   "source": [
    "**2. Use results in Sec. 20 to find $f'(z)$ when**"
   ]
  },
  {
   "cell_type": "markdown",
   "metadata": {},
   "source": [
    "**(a) $f(z) = 3z^2 - 2z + 4$**"
   ]
  },
  {
   "cell_type": "markdown",
   "metadata": {},
   "source": [
    "$$\n",
    "f'(z) = {d \\over dz} (3z^2 - 2z + 4)\n",
    "$$\n",
    "\n",
    "$$\n",
    "f'(z) = {d \\over dz} 3z^2 - {d \\over dz} 2z + {d \\over dz} 4\n",
    "$$\n",
    "\n",
    "$$\n",
    "f'(z) = 6z - 2\n",
    "$$"
   ]
  },
  {
   "cell_type": "markdown",
   "metadata": {},
   "source": [
    "**(b) $f(z) = (2z^2 + 5)^5$**"
   ]
  },
  {
   "cell_type": "markdown",
   "metadata": {},
   "source": [
    "$$\n",
    "f'(z) = {d \\over dz} (2z^2 + 5)^5\n",
    "$$\n",
    "\n",
    "$$\n",
    "f'(z) = 4(2z^2 + 5)^4 {d \\over dz}\\left( 2z^2 + 5\\right)\n",
    "$$\n",
    "\n",
    "$$\n",
    "f'(z) = 4(2z^2 + 5)^4 {d \\over dz}4z\n",
    "$$\n",
    "\n",
    "$$\n",
    "f'(z) = 16z(2z^2 + 5)^4\n",
    "$$"
   ]
  },
  {
   "cell_type": "markdown",
   "metadata": {},
   "source": [
    "**(c) $f(z) = {z - 1 \\over 2z + 1}$ where $z \\ne -1/2$**"
   ]
  },
  {
   "cell_type": "markdown",
   "metadata": {},
   "source": [
    "$$\n",
    "f'(z) = {d \\over dz} {z - 1 \\over 2z + 1}\n",
    "$$\n",
    "\n",
    "$$\n",
    "f'(z) = {(2z + 1){d \\over dz}(z - 1) - (z - 1){d \\over dz}(2z + 1) \\over (2z + 1)^2}\n",
    "$$\n",
    "\n",
    "$$\n",
    "f'(z) = {(2z + 1) - 2(z - 1) \\over (2z + 1)^2}\n",
    "$$\n",
    "\n",
    "$$\n",
    "f'(z) = {(2z + 1) - (2z - 2) \\over (2z + 1)^2}\n",
    "$$\n",
    "\n",
    "$$\n",
    "f'(z) = {3 \\over (2z + 1)^2}\n",
    "$$"
   ]
  },
  {
   "cell_type": "markdown",
   "metadata": {},
   "source": [
    "**(d) $f(z) = {(1 + z^2)^4 \\over z^2}$ where $z \\ne 0$**"
   ]
  },
  {
   "cell_type": "markdown",
   "metadata": {},
   "source": [
    "$$\n",
    "f'(z) = {d \\over dz}{(1 + z^2)^4 \\over z^2}\n",
    "$$\n",
    "\n",
    "$$\n",
    "f'(z) = {d \\over dz}((1 + z^2)^4z^{-2})\n",
    "$$\n",
    "\n",
    "$$\n",
    "f'(z) = (1 + z^2)^4{d \\over dz}z^{-2} + z^{-2}{d \\over dz}(1 + z^2)^4\n",
    "$$\n",
    "\n",
    "$$\n",
    "f'(z) = (1 + z^2)^4(-2)z^{-3} + z^{-2}4(1 + z^2)^3{d \\over dz}(1 + z^2)\n",
    "$$\n",
    "\n",
    "$$\n",
    "f'(z) = -2(1 + z^2)^4z^{-3} + z^{-2}4(1 + z^2)^32\n",
    "$$\n",
    "\n",
    "$$\n",
    "f'(z) = 8z^{-2}(1 + z^2)^3-2(1 + z^2)^4z^{-3}\n",
    "$$"
   ]
  },
  {
   "cell_type": "markdown",
   "metadata": {},
   "source": []
  }
 ],
 "metadata": {
  "language_info": {
   "name": "python"
  }
 },
 "nbformat": 4,
 "nbformat_minor": 2
}
