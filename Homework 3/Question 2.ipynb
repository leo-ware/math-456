{
 "cells": [
  {
   "cell_type": "markdown",
   "metadata": {},
   "source": [
    "**8. Use the method in Example 2, Sec. 19, to show that $f'(z)$ does not exist at any point $z$ when**"
   ]
  },
  {
   "cell_type": "markdown",
   "metadata": {},
   "source": [
    "**(a) $f (z)= \\operatorname{Re} z$**"
   ]
  },
  {
   "cell_type": "markdown",
   "metadata": {},
   "source": [
    "$$\n",
    "{\\Delta w \\over \\Delta z} = {\\operatorname{Re}(z + \\Delta z) - \\operatorname{Re}(z) \\over \\Delta z}\n",
    "$$\n",
    "\n",
    "$$\n",
    "{\\Delta w \\over \\Delta z} = {\\operatorname{Re}(z) + \\operatorname{Re}(\\Delta z) - \\operatorname{Re}(z) \\over \\Delta z}\n",
    "$$\n",
    "\n",
    "$$\n",
    "{\\Delta w \\over \\Delta z} = {\\operatorname{Re}(\\Delta z) \\over \\Delta z}\n",
    "$$\n",
    "\n",
    "\n",
    "$$\n",
    "f'(z) = \\lim_{\\Delta z \\to 0} {\\Delta w \\over \\Delta z}\n",
    "$$\n",
    "\n",
    "$$\n",
    "f'(z) = \\lim_{\\Delta z \\to 0} {\\operatorname{Re}(\\Delta z) \\over \\Delta z}\n",
    "$$\n",
    "\n",
    "Suppose the derivative exists. Then, this limit exists. Then, the limit is the same regardless of the direction of approach.\n",
    "\n",
    "Consider the case where $\\Delta z \\to 0$ along the line $(x, 0)$. Then,\n",
    "\n",
    "$$\n",
    "f'(z) = \\lim_{x \\to 0} {\\operatorname{Re}(x) \\over x}\n",
    "$$\n",
    "\n",
    "$$\n",
    "f'(z) = \\lim_{x \\to 0} {x \\over x}\n",
    "$$\n",
    "\n",
    "$$\n",
    "f'(z) = 1\n",
    "$$\n",
    "\n",
    "Consider the case where $\\Delta z \\to 0$ along the line $(0, y)$. Then,\n",
    "\n",
    "$$\n",
    "f'(z) = \\lim_{x \\to 0} {\\operatorname{Re}(yi) \\over yi}\n",
    "$$\n",
    "\n",
    "$$\n",
    "f'(z) = \\lim_{x \\to 0} {0 \\over yi}\n",
    "$$\n",
    "\n",
    "$$\n",
    "f'(z) = 0\n",
    "$$\n",
    "\n",
    "Contradiction, therefore the derivative does not exist."
   ]
  },
  {
   "cell_type": "markdown",
   "metadata": {},
   "source": [
    "**(b) $f (z)= \\operatorname{Imag} z$**"
   ]
  },
  {
   "cell_type": "markdown",
   "metadata": {},
   "source": [
    "$$\n",
    "{\\Delta w \\over \\Delta z} = {\\operatorname{Imag}(z + \\Delta z) - \\operatorname{Imag}(z) \\over \\Delta z}\n",
    "$$\n",
    "\n",
    "$$\n",
    "{\\Delta w \\over \\Delta z} = {\\operatorname{Imag}(z) + \\operatorname{Imag}(\\Delta z) - \\operatorname{Imag}(z) \\over \\Delta z}\n",
    "$$\n",
    "\n",
    "$$\n",
    "{\\Delta w \\over \\Delta z} = {\\operatorname{Imag}(\\Delta z) \\over \\Delta z}\n",
    "$$\n",
    "\n",
    "\n",
    "$$\n",
    "f'(z) = \\lim_{\\Delta z \\to 0} {\\Delta w \\over \\Delta z}\n",
    "$$\n",
    "\n",
    "$$\n",
    "f'(z) = \\lim_{\\Delta z \\to 0} {\\operatorname{Imag}(\\Delta z) \\over \\Delta z}\n",
    "$$\n",
    "\n",
    "Suppose the derivative exists. Then, this limit exists. Then, the limit is the same regardless of the direction of approach.\n",
    "\n",
    "Consider the case where $\\Delta z \\to 0$ along the line $(x, 0)$. Then,\n",
    "\n",
    "$$\n",
    "f'(z) = \\lim_{x \\to 0} {\\operatorname{Imag}(x) \\over x}\n",
    "$$\n",
    "\n",
    "$$\n",
    "f'(z) = \\lim_{x \\to 0} {0 \\over x}\n",
    "$$\n",
    "\n",
    "$$\n",
    "f'(z) = 0\n",
    "$$\n",
    "\n",
    "Consider the case where $\\Delta z \\to 0$ along the line $(0, y)$. Then,\n",
    "\n",
    "$$\n",
    "f'(z) = \\lim_{x \\to 0} {\\operatorname{Imag}(yi) \\over yi}\n",
    "$$\n",
    "\n",
    "$$\n",
    "f'(z) = \\lim_{x \\to 0} {y \\over yi}\n",
    "$$\n",
    "\n",
    "$$\n",
    "f'(z) = {1 \\over i}\n",
    "$$\n",
    "\n",
    "Contradiction, therefore the derivative does not exist."
   ]
  },
  {
   "cell_type": "markdown",
   "metadata": {},
   "source": []
  }
 ],
 "metadata": {
  "language_info": {
   "name": "python"
  }
 },
 "nbformat": 4,
 "nbformat_minor": 2
}
