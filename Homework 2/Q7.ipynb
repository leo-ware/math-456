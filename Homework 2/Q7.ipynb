{
 "cells": [
  {
   "cell_type": "markdown",
   "metadata": {},
   "source": [
    "Pages 54 & 55: problem 1"
   ]
  },
  {
   "cell_type": "markdown",
   "metadata": {},
   "source": [
    "**Use definition (2), Sec. 15, of limit to prove that**"
   ]
  },
  {
   "cell_type": "markdown",
   "metadata": {},
   "source": [
    "**(a) $\\lim_{z \\to z_0} \\operatorname{Re} z = \\operatorname{Re} z_0$**"
   ]
  },
  {
   "cell_type": "markdown",
   "metadata": {},
   "source": [
    "Let $\\epsilon$ be a positive real number. Let $z$ and $z_0$ be complex numbers. Suppose $|z_0 - z| < \\epsilon$. Then, because both sides are positive real numbers, $|z_0 - z|^2 < \\epsilon^2$.\n",
    "\n",
    "Let $\\omega = z_0 - z$. Then, $|\\omega| \\lt \\epsilon^2$. Let, $x_\\omega$ and $y_\\omega$ be real numbers such that $x_\\omega + y_\\omega i = \\omega$. Then, $x_\\omega^2 + y_\\omega^2 \\lt \\epsilon^2$. Since $x_\\omega$ and $y_\\omega$ are real, $x_\\omega^2$ and $y_\\omega^2$ must be positive real. So, $x_\\omega^2 \\lt \\epsilon^2$. So, $|x_\\omega| \\lt |\\epsilon|$. But, $\\epsilon$ is a positive real. So, $|x_\\omega| \\lt \\epsilon$\n",
    "\n",
    "Since $\\omega = z_0 - z$, $\\operatorname{Re}\\omega = \\operatorname{Re}z - \\operatorname{Re}z_0$. So, $|x_\\omega| = |\\operatorname{Re}z - \\operatorname{Re}z_0|$. From this, it follows that, $|\\operatorname{Re}z - \\operatorname{Re}z_0| \\lt \\epsilon$.\n",
    "\n",
    "So, for any positive real $\\epsilon$, $|z_0 - z| < \\epsilon$ implies $|\\operatorname{Re}z - \\operatorname{Re}z_0| \\lt \\epsilon$. Therefore, $\\lim_{z \\to z_0} \\operatorname{Re} z = \\operatorname{Re} z_0$."
   ]
  },
  {
   "cell_type": "markdown",
   "metadata": {},
   "source": [
    "**(b) $\\lim_{z \\to z_0} \\bar{z} = \\bar{z_0}$**"
   ]
  },
  {
   "cell_type": "markdown",
   "metadata": {},
   "source": [
    "Let $\\epsilon$ be a positive real number. Let $z$ and $z_0$ be complex numbers. Suppose, $|z - z_0| \\lt \\epsilon$.\n",
    "\n",
    "Let $\\omega = z - z_0$. Then, $|\\omega| \\lt \\epsilon$. Also, $\\overline{\\omega} = \\overline{z - z_0}$. But conjugation distributes over subtraction, so $\\overline{\\omega} = \\overline{z} - \\overline{z_0}$. Take the length of both sides to get, $|\\overline{\\omega}| = |\\overline{z} - \\overline{z_0}|$. But, $|\\omega| = |\\bar{\\omega}|$. So, $|\\omega| = |\\overline{z} - \\overline{z_0}|$. Applying the previous inequality, we get, $|\\overline{z} - \\overline{z_0}| \\lt \\epsilon$.\n",
    "\n",
    "So, for any positive real $\\epsilon$, $|z - z_0| \\lt \\epsilon$ implies $|\\overline{z} - \\overline{z_0}| \\lt \\epsilon$. So, $\\lim_{z \\to z_0} \\bar{z} = \\bar{z_0}$."
   ]
  },
  {
   "cell_type": "markdown",
   "metadata": {},
   "source": [
    "**(c) $\\lim_{z \\to 0} {\\bar{z}^2 \\over z} = 0$**"
   ]
  },
  {
   "cell_type": "markdown",
   "metadata": {},
   "source": [
    "Let $\\epsilon$ be a positive real number and let $z$ and $z_0$ be complex numbers. Suppose, $|z| \\lt \\epsilon$."
   ]
  },
  {
   "cell_type": "markdown",
   "metadata": {},
   "source": [
    "Consider the quantity ${\\bar{z}^2 /z}$. By the formula for multiplicative inverse,\n",
    "\n",
    "$$\n",
    "{\\bar{z}^2  \\over z} = {\\bar{z}^3  \\over |z|^2}\n",
    "$$\n",
    "\n",
    "Take the exponential form,\n",
    "\n",
    "$$\n",
    "{\\bar{z}^2  \\over z} = {|z|^3 \\exp(-3i\\pi\\operatorname{Arg}z)  \\over |z|^2}\n",
    "$$\n",
    "\n",
    "Then,\n",
    "\n",
    "$$\n",
    "{\\bar{z}^2  \\over z} = {|z|^3 \\over |z|^2} \\exp(-3i\\pi\\operatorname{Arg}z)\n",
    "$$\n",
    "\n",
    "$$\n",
    "{\\bar{z}^2  \\over z} = |z| \\exp(-3i\\pi\\operatorname{Arg}z)\n",
    "$$\n",
    "\n",
    "Take the length,\n",
    "\n",
    "$$\n",
    "\\left|{\\bar{z}^2  \\over z}\\right| = ||z| \\exp(-3i\\pi\\operatorname{Arg}z)|\n",
    "$$\n",
    "\n",
    "$$\n",
    "\\left|{\\bar{z}^2  \\over z}\\right| = |z|\n",
    "$$"
   ]
  },
  {
   "cell_type": "markdown",
   "metadata": {},
   "source": [
    "Then, by our supposition,\n",
    "\n",
    "$$\n",
    "\\left|{\\bar{z}^2 \\over z}\\right| \\lt \\epsilon\n",
    "$$\n",
    "\n",
    "So,\n",
    "\n",
    "$$\n",
    "\\left|{\\bar{z}^2 \\over z} - 0\\right| \\lt \\epsilon\n",
    "$$"
   ]
  },
  {
   "cell_type": "markdown",
   "metadata": {},
   "source": [
    "So, for any positive real $\\epsilon$, $|z| \\lt \\epsilon$ implies $\\left|{\\bar{z}^2 / z} - 0\\right| \\lt \\epsilon$. So, $\\lim_{z \\to 0} {\\bar{z}^2 \\over z} = 0$."
   ]
  }
 ],
 "metadata": {
  "language_info": {
   "name": "python"
  }
 },
 "nbformat": 4,
 "nbformat_minor": 2
}
