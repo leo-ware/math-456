{
 "cells": [
  {
   "cell_type": "markdown",
   "metadata": {},
   "source": [
    "Pages 54 & 55: problem 7"
   ]
  },
  {
   "cell_type": "markdown",
   "metadata": {},
   "source": [
    "**Use definition (2), Sec. 15, of limit to prove that if $\\lim_{z \\to z_0}f(z) = w_0$, then $\\lim_{z \\to z_0}|f(z)| = |w_0|$**"
   ]
  },
  {
   "cell_type": "markdown",
   "metadata": {},
   "source": [
    "Let $\\epsilon$ be a positive real number. Suppose,\n",
    "\n",
    "$$\n",
    "\\lim_{z \\to z_0}f(z) = w_0\n",
    "$$\n",
    "\n",
    "Then, there exists some $\\delta$ such that $|z - z_0| \\lt \\delta$ implies $|f(z) - w_0| \\lt \\epsilon$.\n",
    "\n",
    "Suppose,\n",
    "\n",
    "$$\n",
    "|z - z_0| \\lt \\delta\n",
    "$$\n",
    "\n",
    "Then,\n",
    "\n",
    "$$\n",
    "|f(z) - w_0| \\lt \\epsilon\n",
    "$$\n",
    "\n",
    "By the triangle inequality,\n",
    "\n",
    "$$\n",
    "||f(z)| - |w_0|| \\lt |f(z) - w_0|\n",
    "$$\n",
    "\n",
    "Then,\n",
    "\n",
    "$$\n",
    "||f(z)| - |w_0|| \\lt \\epsilon\n",
    "$$\n",
    "\n",
    "So, for any $\\epsilon$, there exists som $\\delta$ such that $||f(z)| - |w_0|| \\lt \\epsilon$. So,\n",
    "\n",
    "$$\n",
    "\\lim_{z \\to z_0}|f(z)| = |w_0|\n",
    "$$"
   ]
  },
  {
   "cell_type": "markdown",
   "metadata": {},
   "source": []
  }
 ],
 "metadata": {
  "language_info": {
   "name": "python"
  }
 },
 "nbformat": 4,
 "nbformat_minor": 2
}
