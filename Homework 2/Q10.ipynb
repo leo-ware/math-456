{
 "cells": [
  {
   "cell_type": "markdown",
   "metadata": {},
   "source": [
    "Pages 54 & 55: problem 8"
   ]
  },
  {
   "cell_type": "markdown",
   "metadata": {},
   "source": [
    "**Write $\\Delta z = z−z_0$ and show that $\\lim_{z \\to z_0}f(z) = w_0$ if and only if $\\lim_{\\Delta z \\to 0} f(z_0 + \\Delta z) = w_0$**."
   ]
  },
  {
   "cell_type": "markdown",
   "metadata": {},
   "source": [
    "*Step 1*\n",
    "\n",
    "Let $\\epsilon$ be a positive real number. Suppose, $\\lim_{z \\to z_0}f(z) = w_0$. Then there exists some $\\delta$ such that $|z - z_0| \\lt \\delta$ implies $|f(z) - w_0| \\lt \\epsilon$.\n",
    "\n",
    "Suppose,\n",
    "\n",
    "$$\n",
    "|\\Delta z| \\lt \\delta\n",
    "$$\n",
    "\n",
    "Then,\n",
    "\n",
    "$$\n",
    "|z - z_0| \\lt \\delta\n",
    "$$\n",
    "\n",
    "Then, by the limit,\n",
    "\n",
    "$$\n",
    "|f(z) - w_0| \\lt \\epsilon\n",
    "$$\n",
    "\n",
    "From the definition of $\\Delta z$, we get,\n",
    "\n",
    "$$\n",
    "z = z_0 + \\Delta z\n",
    "$$\n",
    "\n",
    "So,\n",
    "\n",
    "$$\n",
    "|f(z_0 + \\Delta z) - w_0| \\lt \\epsilon\n",
    "$$\n",
    "\n",
    "So, for any $\\epsilon$ there exists some $\\delta$ such that $|\\Delta z| \\lt \\delta$ implies $|f(z_0 + \\Delta z) - w_0| \\lt \\epsilon$. So,\n",
    "\n",
    "$$\n",
    "(\\lim_{z \\to z_0}f(z) = w_0) \\implies (\\lim_{\\Delta z \\to 0} f(z_0 + \\Delta z) = w_0)\n",
    "$$"
   ]
  },
  {
   "cell_type": "markdown",
   "metadata": {},
   "source": [
    "*Step 2*\n",
    "\n",
    "Let $\\epsilon$ be a positive real number. Suppose, $\\lim_{\\Delta z \\to 0} f(z_0 + \\Delta z) = w_0$. Then, there exists some $\\delta$ such that $|\\Delta z| \\lt \\delta$ implies $|f(z_0 + \\Delta z) - w_0| \\lt \\epsilon$.\n",
    "\n",
    "Suppose,\n",
    "\n",
    "$$\n",
    "|z - z_0| \\lt \\delta\n",
    "$$\n",
    "\n",
    "Then,\n",
    "\n",
    "$$\n",
    "|\\Delta z| \\lt \\delta\n",
    "$$\n",
    "\n",
    "Then, by the limit,\n",
    "\n",
    "$$\n",
    "|f(z_0 + \\Delta z) - w_0| \\lt \\epsilon\n",
    "$$\n",
    "\n",
    "But, by the definition of $\\Delta z$,\n",
    "\n",
    "$$\n",
    "|f(z) - w_0| \\lt \\epsilon\n",
    "$$\n",
    "\n",
    "So, for any $\\epsilon$, there exists some $\\delta$ such that $|z - z_0| \\lt \\delta$ implies $|f(z) - w_0| \\lt \\epsilon$. So,\n",
    "\n",
    "$$\n",
    "(\\lim_{\\Delta z \\to 0} f(z_0 + \\Delta z) = w_0)\n",
    "\\implies \n",
    "(\\lim_{z \\to z_0}f(z) = w_0)\n",
    "$$"
   ]
  },
  {
   "cell_type": "markdown",
   "metadata": {},
   "source": [
    "*Step 3*\n",
    "\n",
    "We have that,\n",
    "\n",
    "$$\n",
    "(\\lim_{z \\to z_0}f(z) = w_0) \\implies (\\lim_{\\Delta z \\to 0} f(z_0 + \\Delta z) = w_0)\n",
    "$$\n",
    "\n",
    "$$\n",
    "(\\lim_{\\Delta z \\to 0} f(z_0 + \\Delta z) = w_0)\n",
    "\\implies \n",
    "(\\lim_{z \\to z_0}f(z) = w_0)\n",
    "$$\n",
    "\n",
    "Then,\n",
    "\n",
    "$$\n",
    "(\\lim_{z \\to z_0}f(z) = w_0) \\equiv (\\lim_{\\Delta z \\to 0} f(z_0 + \\Delta z) = w_0)\n",
    "$$"
   ]
  },
  {
   "cell_type": "markdown",
   "metadata": {},
   "source": []
  }
 ],
 "metadata": {
  "language_info": {
   "name": "python"
  }
 },
 "nbformat": 4,
 "nbformat_minor": 2
}
