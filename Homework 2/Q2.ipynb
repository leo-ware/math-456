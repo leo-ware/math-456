{
 "cells": [
  {
   "cell_type": "markdown",
   "metadata": {},
   "source": [
    "Page 31: problem 8"
   ]
  },
  {
   "cell_type": "markdown",
   "metadata": {},
   "source": [
    "**(a) Prove that the usual formula solves the quadratic equation**\n",
    "\n",
    "$$\n",
    "az^2 + bz + c = 0\n",
    "$$\n",
    "\n",
    "**For,**\n",
    "\n",
    "$$\n",
    "a \\ne 0\n",
    "$$"
   ]
  },
  {
   "cell_type": "markdown",
   "metadata": {},
   "source": [
    "Let,\n",
    "\n",
    "$$\n",
    "x = \\frac{-b \\pm \\sqrt{b^2 - 4ac}}{2a}\n",
    "$$"
   ]
  },
  {
   "cell_type": "markdown",
   "metadata": {},
   "source": [
    "Then, let,\n",
    "\n",
    "$$\n",
    "x_1 = \\frac{-b + \\sqrt{b^2 - 4ac}}{2a}\n",
    "$$\n",
    "$$\n",
    "x_2 = \\frac{-b - \\sqrt{b^2 - 4ac}}{2a}\n",
    "$$\n",
    "\n"
   ]
  },
  {
   "cell_type": "markdown",
   "metadata": {},
   "source": [
    "We want to show that both $x_1$ and $x_2$ satisfy the equation $az^2 + bz + c = 0$.\n",
    "\n",
    "Starting with $x_1$,\n",
    "\n",
    "$$\n",
    "ax_1^2 + bx_1 + c = a\\left( {-b + \\sqrt{b^2 - 4ac} \\over 2a} \\right)^2 + b\\left( {-b + \\sqrt{b^2 - 4ac} \\over 2a} \\right) + c\n",
    "$$\n",
    "\n",
    "$$\n",
    "ax_1^2 + bx_1 + c = a\\left( {b^2 -2b\\sqrt{b^2 - 4ac} + (b^2 - 4ac) \\over 4a^2} \\right) + {-b^2 + b\\sqrt{b^2 - 4ac} \\over 2a} + c\n",
    "$$\n",
    "\n",
    "$$\n",
    "ax_1^2 + bx_1 + c = {2b^2 -2b\\sqrt{b^2 - 4ac} - 4ac \\over 4a} + {2(-b^2 + b\\sqrt{b^2 - 4ac}) \\over 4a} + {4ac \\over 4a}\n",
    "$$\n",
    "\n",
    "$$\n",
    "ax_1^2 + bx_1 + c = {\n",
    "    2b^2 -2b\\sqrt{b^2 - 4ac} - 4ac - 2b^2 + 2b\\sqrt{b^2 - 4ac} + 4ac\n",
    "    \\over\n",
    "    4a}\n",
    "$$\n",
    "\n",
    "$$\n",
    "ax_1^2 + bx_1 + c = {\n",
    "    2b^2 - 2b^2\n",
    "    +2b\\sqrt{b^2 - 4ac} - 2b\\sqrt{b^2 - 4ac}\n",
    "    + 4ac - 4ac\n",
    "    \\over\n",
    "    4a}\n",
    "$$\n",
    "\n",
    "$$\n",
    "ax_1^2 + bx_1 + c = 0\n",
    "$$"
   ]
  },
  {
   "cell_type": "markdown",
   "metadata": {},
   "source": [
    "Using $x_2$,\n",
    "\n",
    "$$\n",
    "ax_2^2 + bx_2 + c = a\\left( {-b - \\sqrt{b^2 - 4ac} \\over 2a} \\right)^2 + b\\left( {-b - \\sqrt{b^2 - 4ac} \\over 2a} \\right) + c\n",
    "$$\n",
    "\n",
    "$$\n",
    "ax_2^2 + bx_2 + c = \\left( {b^2 + 2b \\sqrt{b^2 - 4ac} + (b^2 - 4ac) \\over 4a} \\right) + \\left( {-2b^2 - 2b\\sqrt{b^2 - 4ac} \\over 4a} \\right) + {4ac \\over 4a}\n",
    "$$\n",
    "\n",
    "$$\n",
    "ax_2^2 + bx_2 + c = \\left( {\n",
    "    2b^2 + 2b \\sqrt{b^2 - 4ac} - 4ac\n",
    "    -2b^2 - 2b\\sqrt{b^2 - 4ac}\n",
    "    +4ac\n",
    "    \\over 4a} \\right)\n",
    "$$\n",
    "\n",
    "$$\n",
    "ax_2^2 + bx_2 + c = \\left( {\n",
    "    2b^2-2b^2\n",
    "    + 2b \\sqrt{b^2 - 4ac}- 2b\\sqrt{b^2 - 4ac}\n",
    "    +4ac- 4ac\n",
    "    \\over 4a} \\right)\n",
    "$$\n",
    "\n",
    "$$\n",
    "ax_2^2 + bx_2 + c = 0\n",
    "$$"
   ]
  },
  {
   "cell_type": "markdown",
   "metadata": {},
   "source": [
    "**(b) Use the result in part (a) to find the roots of the equation $z^2 + 2z + (1− i)= 0$**"
   ]
  },
  {
   "cell_type": "markdown",
   "metadata": {},
   "source": [
    "$$\n",
    "z = {{-b \\pm \\sqrt{b^2 - 4ac}} \\over 2a}\n",
    "$$\n",
    "\n",
    "We get, $a = 1$, $b = 2$, $c = (1 - i)$. So,\n",
    "\n",
    "$$\n",
    "z = {{-2 \\pm \\sqrt{2^2 - 4(1 - i)}} \\over 2}\n",
    "$$\n",
    "\n",
    "$$\n",
    "z = {{-2 \\pm \\sqrt{4 - 4 + 4i}} \\over 2}\n",
    "$$\n",
    "\n",
    "$$\n",
    "z = {{-2 \\pm \\sqrt{4i}} \\over 2}\n",
    "$$\n",
    "\n",
    "$$\n",
    "z = {-2 \\pm 2\\sqrt{i} \\over 2}\n",
    "$$\n",
    "\n",
    "$$\n",
    "z = -1 \\pm \\sqrt{i}\n",
    "$$\n",
    "\n",
    "$$\n",
    "z = -1 \\pm {1 + i \\over \\sqrt{2}}\n",
    "$$\n",
    "\n",
    "So,\n",
    "\n",
    "$$\n",
    "z = (-1 + 2^{-1/2}) + 2^{-1/2}i\n",
    "$$\n",
    "\n",
    "Or,\n",
    "\n",
    "$$\n",
    "z = (-1 - 2^{-1/2}) - 2^{-1/2}i\n",
    "$$"
   ]
  },
  {
   "cell_type": "markdown",
   "metadata": {},
   "source": [
    "The solution is irrational. So, while numeric approximation is possible, this is the simplest exact form."
   ]
  },
  {
   "cell_type": "markdown",
   "metadata": {},
   "source": []
  }
 ],
 "metadata": {
  "kernelspec": {
   "display_name": "venv",
   "language": "python",
   "name": "python3"
  },
  "language_info": {
   "codemirror_mode": {
    "name": "ipython",
    "version": 3
   },
   "file_extension": ".py",
   "mimetype": "text/x-python",
   "name": "python",
   "nbconvert_exporter": "python",
   "pygments_lexer": "ipython3",
   "version": "3.13.1"
  }
 },
 "nbformat": 4,
 "nbformat_minor": 2
}
