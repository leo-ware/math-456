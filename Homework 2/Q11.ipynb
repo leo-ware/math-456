{
 "cells": [
  {
   "cell_type": "markdown",
   "metadata": {},
   "source": [
    "Pages 54 & 55: problem 10"
   ]
  },
  {
   "cell_type": "markdown",
   "metadata": {},
   "source": [
    "**Use the theorem in Sec. 17 to show that,**\n",
    "\n",
    "**(a) $\\lim_{z \\to \\infty}{4z^2 \\over (z - 1)^2} = 4$**"
   ]
  },
  {
   "cell_type": "markdown",
   "metadata": {},
   "source": [
    "Let,\n",
    "\n",
    "$$\n",
    "x = \\lim_{z \\to \\infty}{4z^2 \\over (z - 1)^2}\n",
    "$$\n",
    "\n",
    "Then,\n",
    "\n",
    "$$\n",
    "x = \\lim_{z \\to 0}{4z^{-2} \\over (z^{-1} - 1)^2}\n",
    "$$\n",
    "\n",
    "$$\n",
    "x = \\lim_{z \\to 0}{4z^{-2} \\over z^{-2} - 2z^{-1} + 1}\n",
    "$$\n",
    "\n",
    "Multiply by ${z^2 \\over z^2}$,\n",
    "\n",
    "$$\n",
    "x = \\lim_{z \\to 0}{4 \\over 1 - 2z + z^2}\n",
    "$$\n",
    "\n",
    "This expression is defined at zero, so we can solve by substitution.\n",
    "\n",
    "$$\n",
    "x = {4 \\over 1 - 2(0) + (0)^2}\n",
    "$$\n",
    "\n",
    "$$\n",
    "x = 4\n",
    "$$"
   ]
  },
  {
   "cell_type": "markdown",
   "metadata": {},
   "source": [
    "**(b) $\\lim_{z \\to 1}{1 \\over (z - 1)^3} = \\infty$**"
   ]
  },
  {
   "cell_type": "markdown",
   "metadata": {},
   "source": [
    "From sec 17, $\\lim_{z \\to 1}{1 \\over (z - 1)^3} = \\infty$ if $\\lim_{z \\to 1}(z - 1)^3 = 0$. So, we can verify the equation by solving for,\n",
    "\n",
    "$$\n",
    "x = \\lim_{z \\to 1}(z - 1)^3\n",
    "$$\n",
    "\n",
    "This expression is defined at $z = 1$, so we can solve by substitution.\n",
    "\n",
    "$$\n",
    "x = \\lim_{z \\to 1}((1) - 1)^3\n",
    "$$\n",
    "\n",
    "$$\n",
    "x = 0\n",
    "$$\n",
    "\n",
    "So,\n",
    "\n",
    "$$\n",
    "\\lim_{z \\to 1}{1 \\over (z - 1)^3} = \\infty\n",
    "$$"
   ]
  },
  {
   "cell_type": "markdown",
   "metadata": {},
   "source": [
    "**(c) $\\lim_{z \\to \\infty} {z^2 + 1 \\over z - 1} = \\infty$**"
   ]
  },
  {
   "cell_type": "markdown",
   "metadata": {},
   "source": [
    "We claim,\n",
    "\n",
    "$$\n",
    "\\lim_{z \\to \\infty} {z^2 + 1 \\over z - 1} = \\infty\n",
    "$$\n",
    "\n",
    "This holds if,\n",
    "\n",
    "$$\n",
    "\\lim_{z \\to \\infty} {z - 1 \\over z^2 + 1} = 0\n",
    "$$\n",
    "\n",
    "This holds if,\n",
    "\n",
    "$$\n",
    "\\lim_{z \\to 0} {1/z - 1 \\over (1/z)^2 + 1} = 0\n",
    "$$\n",
    "\n",
    "Let,\n",
    "\n",
    "$$\n",
    "x = \\lim_{z \\to 0} {1/z - 1 \\over (1/z)^2 + 1}\n",
    "$$\n",
    "\n",
    "Multiply by ${z^2/z^2}$.\n",
    "\n",
    "$$\n",
    "x = \\lim_{z \\to 0} {z - z^2 \\over 1 + z^2}\n",
    "$$\n",
    "\n",
    "This we can solve by substitution.\n",
    "\n",
    "$$\n",
    "x = {(0) - (0)^2 \\over 1 + (0)^2}\n",
    "$$\n",
    "\n",
    "$$\n",
    "x = 0\n",
    "$$\n",
    "\n",
    "So,\n",
    "\n",
    "$$\n",
    "\\lim_{z \\to \\infty} {z^2 + 1 \\over z - 1} = \\infty\n",
    "$$"
   ]
  },
  {
   "cell_type": "markdown",
   "metadata": {},
   "source": []
  }
 ],
 "metadata": {
  "language_info": {
   "name": "python"
  }
 },
 "nbformat": 4,
 "nbformat_minor": 2
}
