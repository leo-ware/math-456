{
 "cells": [
  {
   "cell_type": "markdown",
   "metadata": {},
   "source": [
    "Pages 54 & 55: problem 5"
   ]
  },
  {
   "cell_type": "markdown",
   "metadata": {},
   "source": [
    "**Show that the function**\n",
    "\n",
    "$$\n",
    "f(z) = \\left( {z \\over \\bar{z}} \\right)^2\n",
    "$$\n",
    "\n",
    "**has the value $1$ at all nonzero points on the real and imaginary axes, where $z = (x, 0)$ and $z = (0, y)$, respectively, but that it has the value $−1$ at all nonzero points on the line $y= x$, where $z = (x, x)$. Thus show that the limit of $f (z)$ as $z$ tends to $0$ does not exist.**"
   ]
  },
  {
   "cell_type": "markdown",
   "metadata": {},
   "source": [
    "Let $x$ and $y$ be real numbers such that $x + yi = z$.\n",
    "\n",
    "Suppose $y = 0$ and $x \\ne 0$. Then,\n",
    "\n",
    "$$\n",
    "f(z) =\n",
    "\\left({x \\over \\bar{x}}\\right)^2\n",
    "$$\n",
    "\n",
    "Since $x$ is a real number,\n",
    "\n",
    "$$\n",
    "f(z) =\n",
    "\\left({x \\over x}\\right)^2\n",
    "$$\n",
    "\n",
    "Then,\n",
    "\n",
    "$$\n",
    "f(z) =\n",
    "1\n",
    "$$\n",
    "\n",
    "So, $y = 0$ and $x \\ne 0$ implies $f(z) = 1$."
   ]
  },
  {
   "cell_type": "markdown",
   "metadata": {},
   "source": [
    "Alternatively, suppose $y = 0$ and $y \\ne 0$. Then,\n",
    "\n",
    "$$\n",
    "f(z) =\n",
    "\\left({yi \\over (\\overline{yi})}\\right)^2\n",
    "$$\n",
    "\n",
    "$$\n",
    "f(z) =\n",
    "\\left({yi \\over -yi}\\right)^2\n",
    "$$\n",
    "\n",
    "$$\n",
    "f(z) =\n",
    "\\left(-1\\right)^2\n",
    "$$\n",
    "\n",
    "$$\n",
    "f(z) = 1\n",
    "$$\n",
    "\n",
    "So, $y = 0$ and $y \\ne 0$ implies $f(z) = 1$."
   ]
  },
  {
   "cell_type": "markdown",
   "metadata": {},
   "source": [
    "Alternatively, suppose $x = y$ and $x \\ne 0$. Then,\n",
    "\n",
    "$$\n",
    "f(z) =\n",
    "\\left({x + xi \\over (\\overline{x + xi})}\\right)^2\n",
    "$$\n",
    "\n",
    "$$\n",
    "f(z) =\n",
    "\\left({x + xi \\over x - xi}\\right)^2\n",
    "$$\n",
    "\n",
    "$$\n",
    "f(z) =\n",
    "\\left({\\sqrt{2}|x| \\exp(i\\pi/4) \\over \\sqrt{2}|x| \\exp(-i\\pi/4)}\\right)^2\n",
    "$$\n",
    "\n",
    "$$\n",
    "f(z) =\n",
    "\\left({\\exp(i\\pi/4) \\over \\exp(-i\\pi/4)}\\right)^2\n",
    "$$\n",
    "\n",
    "$$\n",
    "f(z) =\n",
    "\\left(\\exp(i\\pi/4 - (-i\\pi/4))\\right)^2\n",
    "$$\n",
    "\n",
    "$$\n",
    "f(z) =\n",
    "\\left(\\exp(i\\pi/2)\\right)^2\n",
    "$$\n",
    "\n",
    "$$\n",
    "f(z) =\n",
    "\\exp(i\\pi)\n",
    "$$\n",
    "\n",
    "$$\n",
    "f(z) = - 1\n",
    "$$\n",
    "\n",
    "So, $x = y$ and $x \\ne 0$ implies $f(z) = -1$."
   ]
  },
  {
   "cell_type": "markdown",
   "metadata": {},
   "source": [
    "So, on any deleted open sphere around the origin, $\\{x \\in \\mathbb{C} : x \\ne 0 \\land |x| \\lt \\epsilon\\}$ parametrized by the positive real $\\epsilon$, there will be points $(0, \\epsilon)$ and $(\\epsilon, 0)$ such that $f$ is 1, and points $(\\pm\\sqrt{2}\\epsilon, \\pm\\sqrt{2}\\epsilon)$ such that $f$ is -1. So, the $\\lim_{z \\to 0} f(z)$ does not exist."
   ]
  },
  {
   "cell_type": "markdown",
   "metadata": {},
   "source": []
  }
 ],
 "metadata": {
  "language_info": {
   "name": "python"
  }
 },
 "nbformat": 4,
 "nbformat_minor": 2
}
