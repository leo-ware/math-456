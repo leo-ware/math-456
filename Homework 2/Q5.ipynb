{
 "cells": [
  {
   "cell_type": "markdown",
   "metadata": {},
   "source": [
    "Page 43: problem 1"
   ]
  },
  {
   "cell_type": "markdown",
   "metadata": {},
   "source": [
    "**For each of the functions below, describe the domain of definition that is understood:**"
   ]
  },
  {
   "cell_type": "markdown",
   "metadata": {},
   "source": [
    "**(a) $f(z) = {1 \\over z^2 + 1}$**"
   ]
  },
  {
   "cell_type": "markdown",
   "metadata": {},
   "source": [
    "The function $f$ will be defined unless the denominator is zero.\n",
    "\n",
    "$$\n",
    "z^2 + 1 = 0\n",
    "$$\n",
    "\n",
    "$$\n",
    "z^2 = -1\n",
    "$$\n",
    "\n",
    "$$\n",
    "z = \\sqrt{-1}\n",
    "$$\n",
    "\n",
    "Every nonzero complex number has exactly two square roots. For -1, these are,\n",
    "\n",
    "$$\n",
    "z = i\n",
    "$$\n",
    "\n",
    "Or,\n",
    "\n",
    "$$\n",
    "z = -i\n",
    "$$\n",
    "\n",
    "So, $f$ is defined for all $z$ except for $i$ and $-i$.\n",
    "\n",
    "$$\n",
    "\\{z \\in \\mathbb{C}: z \\not\\in \\{i, -i\\}\\}\n",
    "$$"
   ]
  },
  {
   "cell_type": "markdown",
   "metadata": {},
   "source": [
    "**(b) $f(z) = \\text{Arg}(1 / z)$**"
   ]
  },
  {
   "cell_type": "markdown",
   "metadata": {},
   "source": [
    "The domain is,\n",
    "\n",
    "$$\n",
    "\\{z \\in \\mathbb{C}: z \\ne 0\\}\n",
    "$$"
   ]
  },
  {
   "cell_type": "markdown",
   "metadata": {},
   "source": [
    "**(c) $f(z) = {z \\over z + \\bar{z}}$**"
   ]
  },
  {
   "cell_type": "markdown",
   "metadata": {},
   "source": [
    "This is defined when the denominator is not equal to zero.\n",
    "\n",
    "$$\n",
    "z + \\bar{z} = 0\n",
    "$$\n",
    "\n",
    "$$\n",
    "2\\text{ Re }z = 0\n",
    "$$\n",
    "\n",
    "$$\n",
    "\\text{Re }z = 0\n",
    "$$\n",
    "\n",
    "So, the domain is the complex plain except for $\\text{Re }z = 0$,\n",
    "\n",
    "$$\n",
    "\\{z \\in \\mathbb{C} : \\text{Re}(z) \\ne 0\\}\n",
    "$$"
   ]
  },
  {
   "cell_type": "markdown",
   "metadata": {},
   "source": [
    "**(d) $f(z) = {1 \\over 1 - |z|^2}$**"
   ]
  },
  {
   "cell_type": "markdown",
   "metadata": {},
   "source": [
    "The domain is the set of $z$ for which $f$ is defined, which is the $z$ for which the denominator of $f$ is zero.\n",
    "\n",
    "$$\n",
    "1 - |z|^2 = 0\n",
    "$$\n",
    "\n",
    "$$\n",
    "1 = |z|^2\n",
    "$$\n",
    "\n",
    "$$\n",
    "1 = |z|\n",
    "$$\n",
    "\n",
    "It's the circle centered at zero with radius one. So, the domain of $f$ is the complex plane except for this circle.\n",
    "\n",
    "$$\n",
    "\\{z \\in \\mathbb{C} : |z| = 1\\}\n",
    "$$"
   ]
  },
  {
   "cell_type": "markdown",
   "metadata": {},
   "source": []
  }
 ],
 "metadata": {
  "language_info": {
   "name": "python"
  }
 },
 "nbformat": 4,
 "nbformat_minor": 2
}
