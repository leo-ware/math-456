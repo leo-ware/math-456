{
 "cells": [
  {
   "cell_type": "markdown",
   "metadata": {},
   "source": [
    "Pages 16 & 17: problem 1"
   ]
  },
  {
   "cell_type": "markdown",
   "metadata": {},
   "source": [
    "**Use properties of conjugates and moduli established in Sec. 6 to show that**"
   ]
  },
  {
   "cell_type": "markdown",
   "metadata": {},
   "source": [
    "1. $\\overline{\\bar{z} + 3i} = z - 3i$\n",
    "\n"
   ]
  },
  {
   "cell_type": "markdown",
   "metadata": {},
   "source": [
    "By theorem 6.2 conjugation distributes over addition.\n",
    "\n",
    "$$\n",
    "\\overline{\\bar{z} + 3i} = \\overline{\\bar{z}} + \\overline{3i}\n",
    "$$\n",
    "\n",
    "By theorem 6.1 conjugation is the inverse of conjugation, and the inverse of an imaginary number is -1 times that number.\n",
    "\n",
    "$$\n",
    "\\overline{\\bar{z} + 3i} = z + (-3i)\n",
    "$$\n",
    "\n",
    "So,\n",
    "\n",
    "$$\n",
    "\\overline{\\bar{z} + 3i} = z -3i\n",
    "$$"
   ]
  },
  {
   "cell_type": "markdown",
   "metadata": {},
   "source": [
    "2. $\\overline{iz} = -i\\bar{z}$"
   ]
  },
  {
   "cell_type": "markdown",
   "metadata": {},
   "source": [
    "By 6.8, conjugation distributes over multiplication,\n",
    "\n",
    "$$\n",
    "\\overline{iz} = \\bar{i}\\bar{z}\n",
    "$$\n",
    "\n",
    "By 6.1, the conjugate of an imaginary number is -1 times that number,\n",
    "\n",
    "$$\n",
    "\\overline{iz} = -i\\bar{z}\n",
    "$$"
   ]
  },
  {
   "cell_type": "markdown",
   "metadata": {},
   "source": [
    "3. $\\overline{(2 + i)^2} = 3 -4i$"
   ]
  },
  {
   "cell_type": "markdown",
   "metadata": {},
   "source": [
    "By 6.4, conjugation commutes with exponentiation.\n",
    "\n",
    "$$\n",
    "\\overline{(2 + i)^2} = (\\overline{2 + i})^2\n",
    "$$\n",
    "\n",
    "By 6.1,\n",
    "\n",
    "$$\n",
    "\\overline{(2 + i)^2} = (2 - i)^2\n",
    "$$\n",
    "\n",
    "Then,\n",
    "\n",
    "$$\n",
    "\\overline{(2 + i)^2} = 4 - 4i + (-i)^2\n",
    "$$\n",
    "\n",
    "$$\n",
    "\\overline{(2 + i)^2} = 3 - 4i\n",
    "$$"
   ]
  },
  {
   "cell_type": "markdown",
   "metadata": {},
   "source": [
    "4. $|(2\\bar{z} + 5)(\\sqrt{2} - i)| = \\sqrt{3}|2z + 5|$\n",
    "\n"
   ]
  },
  {
   "cell_type": "markdown",
   "metadata": {},
   "source": [
    "By 6.8, abs commutes with multiplication,\n",
    "\n",
    "$$\n",
    "|(2\\bar{z} + 5)(\\sqrt{2} - i)| = |2\\bar{z} + 5||\\sqrt{2} - i|\n",
    "$$\n",
    "\n",
    "Then,\n",
    "\n",
    "$$\n",
    "|(2\\bar{z} + 5)(\\sqrt{2} - i)| = |2\\bar{z} + 5|\\sqrt{\\sqrt{2}^2 + (-1)^2}\n",
    "$$\n",
    "\n",
    "$$\n",
    "|(2\\bar{z} + 5)(\\sqrt{2} - i)| = \\sqrt{3}|2\\bar{z} + 5|\n",
    "$$"
   ]
  },
  {
   "cell_type": "markdown",
   "metadata": {},
   "source": []
  }
 ],
 "metadata": {
  "language_info": {
   "name": "python"
  }
 },
 "nbformat": 4,
 "nbformat_minor": 2
}
