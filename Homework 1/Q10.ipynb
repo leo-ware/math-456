{
 "cells": [
  {
   "cell_type": "markdown",
   "metadata": {},
   "source": [
    "Pages 16 & 17: problem 9"
   ]
  },
  {
   "cell_type": "markdown",
   "metadata": {},
   "source": [
    "**By factoring $z^4 - 4z^2 + 3$ into two quadratic factors and using inequality (2), Sec. 5, show that if $z$ lies on the circle $|z| = 2$, then,**\n",
    "\n",
    "$$\n",
    "\\left| {1 \\over z^4 - 4z^2 + 3} \\right| \\le {1 \\over 3}\n",
    "$$"
   ]
  },
  {
   "cell_type": "markdown",
   "metadata": {},
   "source": [
    "Observe,\n",
    "\n",
    "$$\n",
    "\\left|{1 \\over z^4 - 4z^2 + 3}\\right| = \\left|{1\\over (z^2-1)(z^2 - 3)}\\right|\n",
    "$$\n",
    "\n",
    "Then\n",
    "\n",
    "$$\n",
    "\\left|{1 \\over z^4 - 4z^2 + 3}\\right| = \\left|((z^2-1)(z^2 - 3))^{-1}\\right|\n",
    "$$\n",
    "\n",
    "$$\n",
    "\\left|{1 \\over z^4 - 4z^2 + 3}\\right| = \\left|(z^2-1)(z^2 - 3)\\right|^{-1}\n",
    "$$\n",
    "\n",
    "$$\n",
    "\\left|{1 \\over z^4 - 4z^2 + 3}\\right| = \\left(|z^2-1||z^2 - 3|\\right)^{-1}\n",
    "$$"
   ]
  },
  {
   "cell_type": "markdown",
   "metadata": {},
   "source": [
    "By inequality 5.2,\n",
    "\n",
    "$$\n",
    "|z^2 - 1| \\ge ||z^2| - |-1|| = ||z|^2 - 1|\n",
    "$$\n",
    "\n",
    "$$\n",
    "|z^2 - 3| \\ge ||-3| - |z^2|| = |3 - |z|^2|\n",
    "$$\n",
    "\n",
    "So,\n",
    "\n",
    "$$\n",
    "\\left(|z^2-1||z^2 - 3|\\right)^{-1} \\le \\left(||z|^2 - 1||3 - |z|^2|\\right)^{-1}\n",
    "$$\n",
    "\n",
    "$$\n",
    "\\left|{1 \\over z^4 - 4z^2 + 3}\\right| \\le \\left(||z|^2 - 1||3 - |z|^2|\\right)^{-1}\n",
    "$$"
   ]
  },
  {
   "cell_type": "markdown",
   "metadata": {},
   "source": [
    "But, $|z| = 2$. So,\n",
    "\n",
    "$$\n",
    "\\left|{1 \\over z^4 - 4z^2 + 3}\\right| \\le \\left(|2^2 - 1||3 - 2^2|\\right)^{-1}\n",
    "$$\n",
    "\n",
    "$$\n",
    "\\left|{1 \\over z^4 - 4z^2 + 3}\\right| \\le \\left(|3||-1|\\right)^{-1}\n",
    "$$\n",
    "\n",
    "$$\n",
    "\\left|{1 \\over z^4 - 4z^2 + 3}\\right| \\le {1 \\over 3}\n",
    "$$"
   ]
  },
  {
   "cell_type": "markdown",
   "metadata": {},
   "source": []
  }
 ],
 "metadata": {
  "language_info": {
   "name": "python"
  }
 },
 "nbformat": 4,
 "nbformat_minor": 2
}
