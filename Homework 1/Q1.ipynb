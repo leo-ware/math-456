{
 "cells": [
  {
   "cell_type": "markdown",
   "metadata": {},
   "source": [
    "Page 5: problem 8"
   ]
  },
  {
   "cell_type": "markdown",
   "metadata": {},
   "source": [
    "\n",
    "**(a) Write $(x, y)+(u, v)= (x, y)$ and point out how it follows that the complex number $0= (0, 0)$ is unique as an additive identity.**\n",
    "\n",
    "By definition,\n",
    "\n",
    "$$\n",
    "(x, y)+(u, v) = (x + u, y + v)\n",
    "$$\n",
    "\n",
    "Suppose $(u, v)$ is the additive identity. Then,\n",
    "\n",
    "$$\n",
    "(x, y)+(u, v) = (x, y)\n",
    "$$\n",
    "\n",
    "Then,\n",
    "\n",
    "$$\n",
    "(x + u, y + v) = (x, y)\n",
    "$$\n",
    "\n",
    "By the definion of complex equality,\n",
    "\n",
    "$$\n",
    "x + u = x\n",
    "$$\n",
    "\n",
    "$$\n",
    "y + v = y\n",
    "$$\n",
    "\n",
    "Then,\n",
    "\n",
    "$$\n",
    "u = v = 0\n",
    "$$\n",
    "\n",
    "Then,\n",
    "\n",
    "$$\n",
    "(u, v) = (0, 0)\n",
    "$$"
   ]
  },
  {
   "cell_type": "markdown",
   "metadata": {},
   "source": [
    "**(b) Likewise, write $(x, y)(u, v)= (x, y)$ and show that the number $1= (1, 0)$ is a unique multiplicative identity.**"
   ]
  },
  {
   "cell_type": "markdown",
   "metadata": {},
   "source": [
    "By definition,\n",
    "\n",
    "Let $(u, v)$ be the multiplicative identitiy. Then, for any complex number $(x, y) \\ne 0$,\n",
    "\n",
    "$$\n",
    "(x, y)(u, v) = (x, y)\n",
    "$$\n",
    "\n",
    "By the definition of complex multiplication,\n",
    "\n",
    "$$\n",
    "(x, y)(u, v) = (xu - yv, xv + yu)\n",
    "$$\n",
    "\n",
    "So,\n",
    "\n",
    "$$\n",
    "(xu - yv, xv + yu) = (x, y)\n",
    "$$\n",
    "\n",
    "By the definition of complex equality,\n",
    "\n",
    "$$\n",
    "x = xu - yv\n",
    "$$\n",
    "\n",
    "$$\n",
    "y = xv + yu\n",
    "$$\n",
    "\n",
    "We can solve this system for $u$ and $v$. We have stipulated that $(x, y) \\ne 0$, but one of $x$ of $y$ could be zero. So, we go case by case."
   ]
  },
  {
   "cell_type": "markdown",
   "metadata": {
    "vscode": {
     "languageId": "plaintext"
    }
   },
   "source": [
    "*Case 1: $y = 0$ & $x \\ne 0$*\n",
    "\n",
    "$$\n",
    "0 = xv + (0)u\n",
    "$$\n",
    "\n",
    "$$\n",
    "xv = 0\n",
    "$$\n",
    "\n",
    "$$\n",
    "v = 0\n",
    "$$\n",
    "\n",
    "$$\n",
    "x = xu\n",
    "$$\n",
    "\n",
    "$$\n",
    "u = 1\n",
    "$$\n",
    "\n",
    "So,\n",
    "\n",
    "$$\n",
    "(u, v) = (1, 0)\n",
    "$$"
   ]
  },
  {
   "cell_type": "markdown",
   "metadata": {},
   "source": [
    "*Case 2: $x = 0$ & $y \\ne 0$*\n",
    "\n",
    "$$\n",
    "0 = (0)u - yv\n",
    "$$\n",
    "\n",
    "$$\n",
    "yv = 0\n",
    "$$\n",
    "\n",
    "$$\n",
    "v = 0\n",
    "$$\n",
    "\n",
    "$$\n",
    "y = (0)(0) + yu\n",
    "$$\n",
    "\n",
    "$$\n",
    "u = 1\n",
    "$$\n",
    "\n",
    "So,\n",
    "\n",
    "$$\n",
    "(u, v) = (1, 0)\n",
    "$$"
   ]
  },
  {
   "cell_type": "markdown",
   "metadata": {
    "vscode": {
     "languageId": "plaintext"
    }
   },
   "source": [
    "*Case 3: $y \\ne 0$ & $x \\ne 0$*\n",
    "\n",
    "$$\n",
    "yv = xu - x\n",
    "$$\n",
    "\n",
    "$$\n",
    "v = {xu - x \\over y}\n",
    "$$\n",
    "\n",
    "$$\n",
    "y = x{x(u - 1) \\over y} + yu\n",
    "$$\n",
    "\n",
    "$$\n",
    "y = {x^2 \\over y}(u - 1) + yu\n",
    "$$\n",
    "\n",
    "$$\n",
    "y = ({x^2 \\over y} + y)u - {x^2 \\over y}\n",
    "$$\n",
    "\n",
    "$$\n",
    "y = ({x^2 \\over y} + y)u - {x^2 \\over y}\n",
    "$$\n",
    "\n",
    "$$\n",
    "u = {y + {x^2 \\over y} \\over y + {x^2 \\over y}}\n",
    "$$\n",
    "\n",
    "$$\n",
    "u = 1\n",
    "$$\n",
    "\n",
    "$$\n",
    "v = {x(1) - x \\over y}\n",
    "$$\n",
    "\n",
    "$$\n",
    "v = 0\n",
    "$$\n",
    "\n",
    "So,\n",
    "\n",
    "$$\n",
    "(u, v) = (1, 0)\n",
    "$$"
   ]
  },
  {
   "cell_type": "markdown",
   "metadata": {},
   "source": [
    "So, the mutliplicative identity, $(u, v) = (1, 0) = 1$."
   ]
  },
  {
   "cell_type": "markdown",
   "metadata": {},
   "source": []
  }
 ],
 "metadata": {
  "language_info": {
   "name": "python"
  }
 },
 "nbformat": 4,
 "nbformat_minor": 2
}
