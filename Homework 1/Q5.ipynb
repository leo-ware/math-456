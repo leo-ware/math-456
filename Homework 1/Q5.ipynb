{
 "cells": [
  {
   "cell_type": "markdown",
   "metadata": {},
   "source": [
    "Pages 7 & 8: problem 6"
   ]
  },
  {
   "cell_type": "markdown",
   "metadata": {},
   "source": [
    "**With the aid of relations (10) and (11) in Sec. 3, derive the identity,**\n",
    "\n",
    "$$\n",
    "\\left({z_1 \\over z_3}\\right)\\left({z_2 \\over z_4}\\right) = \\left({z_1z_2 \\over z_3z_4}\\right)\n",
    "$$"
   ]
  },
  {
   "cell_type": "markdown",
   "metadata": {},
   "source": [
    "By theorem 3.10,\n",
    "\n",
    "$$\n",
    "\\left(z_1 \\over z_3\\right)\n",
    "\\left(z_2 \\over z_4\\right) =\n",
    "z_1\\left(1 \\over z_3\\right)\n",
    "z_2\\left(1 \\over z_4\\right)\n",
    "$$\n",
    "\n",
    "By commutivity,\n",
    "\n",
    "$$\n",
    "\\left(z_1 \\over z_3\\right)\n",
    "\\left(z_2 \\over z_4\\right) =\n",
    "z_1z_2\n",
    "\\left(1 \\over z_3\\right)\n",
    "\\left(1 \\over z_4\\right)\n",
    "$$\n",
    "\n",
    "By theorem 3.11,\n",
    "\n",
    "$$\n",
    "\\left(z_1 \\over z_3\\right)\n",
    "\\left(z_2 \\over z_4\\right) =\n",
    "z_1z_2\n",
    "\\left(1 \\over z_3z_4\\right)\n",
    "$$\n",
    "\n",
    "By theorem 3.10,\n",
    "\n",
    "$$\n",
    "\\left(z_1 \\over z_3\\right)\n",
    "\\left(z_2 \\over z_4\\right) =\n",
    "\\left(z_1z_2 \\over z_3z_4\\right)\n",
    "$$"
   ]
  },
  {
   "cell_type": "markdown",
   "metadata": {},
   "source": []
  }
 ],
 "metadata": {
  "language_info": {
   "name": "python"
  }
 },
 "nbformat": 4,
 "nbformat_minor": 2
}
