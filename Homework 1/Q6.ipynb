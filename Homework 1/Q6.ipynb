{
 "cells": [
  {
   "cell_type": "markdown",
   "metadata": {},
   "source": [
    "Page 13: problem 3"
   ]
  },
  {
   "cell_type": "markdown",
   "metadata": {},
   "source": [
    "**Use established properties of moduli to show that when $|z_3|  \\ne |z_4|$,**\n",
    "\n",
    "$$\n",
    "{\\text{Re}(z_1 + z_2) \\over |z_3 + z_4|} \\le\n",
    "{|z_1| + |z_2| \\over ||z_3| - |z_4||}\n",
    "$$"
   ]
  },
  {
   "cell_type": "markdown",
   "metadata": {},
   "source": [
    "Obviously,\n",
    "\n",
    "$$\n",
    "\\text{Re}(z_1 + z_2) \\le |z_1 + z_2|\n",
    "$$\n",
    "\n",
    "By the triangle inequality,\n",
    "\n",
    "$$\n",
    "|z_1 + z_2| \\le |z_1| + |z_2|\n",
    "$$\n",
    "\n",
    "So,\n",
    "\n",
    "$$\n",
    "\\text{Re}(z_1 + z_2) \\le|z_1| + |z_2|\n",
    "$$\n",
    "\n",
    "By inequality 5.2,\n",
    "\n",
    "$$\n",
    "|z_3 + z_4| \\ge ||z_3| - |z_4||\n",
    "$$\n",
    "\n"
   ]
  },
  {
   "cell_type": "markdown",
   "metadata": {},
   "source": [
    "So, if we consider the inequality. We see that is must hold, because the numerator on the rhs is at least at large as the numerator on the lhs, and the denominator on the lhs is at least as large as the denominator on the rhs."
   ]
  },
  {
   "cell_type": "markdown",
   "metadata": {},
   "source": []
  }
 ],
 "metadata": {
  "language_info": {
   "name": "python"
  }
 },
 "nbformat": 4,
 "nbformat_minor": 2
}
