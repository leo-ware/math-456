{
 "cells": [
  {
   "cell_type": "markdown",
   "metadata": {},
   "source": [
    "Page 13: problem 4"
   ]
  },
  {
   "cell_type": "markdown",
   "metadata": {},
   "source": [
    "**Verify that $\\sqrt{2}|z| \\ge |\\text{Re}z| + |\\text{Im}z|$.**"
   ]
  },
  {
   "cell_type": "markdown",
   "metadata": {},
   "source": [
    "We would like to show,\n",
    "\n",
    "$$\n",
    "\\sqrt{2}|z| \\ge |\\text{Re}z| + |\\text{Im}z|\n",
    "$$\n",
    "\n",
    "Let, $x = |\\text{Re}z|$ & $y = |\\text{Imag}z|$. Then, it suffices to show,\n",
    "\n",
    "$$\n",
    "\\sqrt{2}|z| \\ge x + y\n",
    "$$\n",
    "\n",
    "It suffices to show,\n",
    "\n",
    "$$\n",
    "\\sqrt{2}\\sqrt{x^2 + y^2} \\ge x + y\n",
    "$$\n",
    "\n",
    "Both sides are positive. So, it suffices to show,\n",
    "\n",
    "$$\n",
    "2(x^2 + y^2) \\ge x^2 + y^2 + 2xy\n",
    "$$\n",
    "\n",
    "It suffices to show,\n",
    "\n",
    "$$\n",
    "(x^2 + y^2) \\ge 2xy\n",
    "$$\n",
    "\n",
    "It suffices to show,\n",
    "\n",
    "$$\n",
    "(x^2 + y^2) - 2xy \\ge 0\n",
    "$$\n",
    "\n",
    "It suffices to show,\n",
    "\n",
    "$$\n",
    "(x - y)^2 \\ge 0\n",
    "$$\n",
    "\n",
    "This is true."
   ]
  },
  {
   "cell_type": "markdown",
   "metadata": {},
   "source": []
  }
 ],
 "metadata": {
  "kernelspec": {
   "display_name": "Python 3",
   "language": "python",
   "name": "python3"
  },
  "language_info": {
   "name": "python",
   "version": "3.13.1"
  }
 },
 "nbformat": 4,
 "nbformat_minor": 2
}
