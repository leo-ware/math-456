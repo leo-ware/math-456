{
 "cells": [
  {
   "cell_type": "markdown",
   "metadata": {},
   "source": [
    "Page 5: problem 9"
   ]
  },
  {
   "cell_type": "markdown",
   "metadata": {},
   "source": [
    "**Use $−1= (−1, 0)$ and $z = (x, y)$ to show that $(−1)z = −z$.**\n",
    "\n",
    "By the definition of complex multiplication,\n",
    "\n",
    "$$\n",
    "(−1, 0)(x, y) = (-x + (0)y, (0)x - y)\n",
    "$$\n",
    "\n",
    "So,\n",
    "\n",
    "$$\n",
    "(-1)z = (-x, -y)\n",
    "$$\n",
    "\n",
    "$$\n",
    "(-1)z + z = (-x, -y) + (x, y)\n",
    "$$\n",
    "\n",
    "$$\n",
    "(-1)z + z = (x - x, y - y)\n",
    "$$\n",
    "\n",
    "$$\n",
    "(-1)z + z = (0, 0)\n",
    "$$\n",
    "\n",
    "So, $(-1)z$ is an additive inverse for $z$. Because $-z$ is unique,\n",
    "\n",
    "$$\n",
    "(-1)z = -z\n",
    "$$"
   ]
  },
  {
   "cell_type": "markdown",
   "metadata": {},
   "source": []
  }
 ],
 "metadata": {
  "language_info": {
   "name": "python"
  }
 },
 "nbformat": 4,
 "nbformat_minor": 2
}
