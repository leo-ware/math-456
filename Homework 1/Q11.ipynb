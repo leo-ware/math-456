{
 "cells": [
  {
   "cell_type": "markdown",
   "metadata": {},
   "source": [
    "Pages 16 & 17: problem 14"
   ]
  },
  {
   "cell_type": "markdown",
   "metadata": {},
   "source": [
    "**Using expressions (6), Sec. 6, for $\\text{Re} z$ and $\\text{Im} z$, show that the hyperbola $x^2 - y^2 = 1$ can be written, $z^2 + \\bar{z}^2 = 2$**"
   ]
  },
  {
   "cell_type": "markdown",
   "metadata": {},
   "source": [
    "Let,\n",
    "\n",
    "$$\n",
    "z = x + yi\n",
    "$$\n",
    "\n",
    "Then,\n",
    "\n",
    "$$\n",
    "x = \\text{Re}(z)\n",
    "$$\n",
    "\n",
    "$$\n",
    "y = \\text{Imag}(z)\n",
    "$$"
   ]
  },
  {
   "cell_type": "markdown",
   "metadata": {},
   "source": [
    "Consider the quantity $z^2$.\n",
    "\n",
    "$$\n",
    "z^2 = (x^2 - y^2) + 2xyi\n",
    "$$\n",
    "\n",
    "$$\n",
    "\\text{Re}(z^2) = x^2 - y^2\n",
    "$$\n",
    "\n",
    "By theorem 6.6,\n",
    "\n",
    "$$\n",
    "\\text{Re}(z^2) = {z^2 + \\overline{z^2} \\over 2}\n",
    "$$\n",
    "\n",
    "So,\n",
    "\n",
    "$$\n",
    "x^2 - y^2 = {z^2 + \\overline{z^2} \\over 2}\n",
    "$$"
   ]
  },
  {
   "cell_type": "markdown",
   "metadata": {},
   "source": [
    "So, if we take the hyperbola,\n",
    "\n",
    "$$\n",
    "x^2 - y^2 = 1\n",
    "$$\n",
    "\n",
    "This can be rewritten as,\n",
    "\n",
    "$$\n",
    "{z^2 + \\overline{z^2} \\over 2} = 1\n",
    "$$\n",
    "\n",
    "This is equivalent to,\n",
    "\n",
    "$$\n",
    "z^2 + \\overline{z^2} = 2\n",
    "$$\n",
    "\n",
    "Which can we rewritten as,\n",
    "\n",
    "$$\n",
    "z^2 + \\overline{z}^2 = 2\n",
    "$$"
   ]
  },
  {
   "cell_type": "markdown",
   "metadata": {},
   "source": []
  }
 ],
 "metadata": {
  "language_info": {
   "name": "python"
  }
 },
 "nbformat": 4,
 "nbformat_minor": 2
}
