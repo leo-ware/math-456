{
 "cells": [
  {
   "cell_type": "markdown",
   "metadata": {},
   "source": [
    "Pages 7 & 8: problem 4"
   ]
  },
  {
   "cell_type": "markdown",
   "metadata": {},
   "source": [
    "**4. Prove that if $z_1z_2z_3 = 0$, then at least one of the three factors is zero.**"
   ]
  },
  {
   "cell_type": "markdown",
   "metadata": {},
   "source": [
    "Suppose,\n",
    "\n",
    "$$\n",
    "z_1z_2z_3 = 0\n",
    "$$\n",
    "\n",
    "By associativity,\n",
    "\n",
    "$$\n",
    "(z_1z_2)z_3 = 0\n",
    "$$\n",
    "\n",
    "Let $x = z_1z_2$. Then,\n",
    "\n",
    "$$\n",
    "xz_3 = 0\n",
    "$$\n",
    "\n",
    "We have from Sec. 3, that if the product of two complex numbers is zero, then at least one of those numbers is zero. So,\n",
    "\n",
    "$$\n",
    "x = 0 \\lor z_3 = 0\n",
    "$$\n",
    "\n",
    "*Case 1: $x = 0$*\n",
    "\n",
    "Suppose,\n",
    "\n",
    "$$\n",
    "x = 0\n",
    "$$\n",
    "\n",
    "$$\n",
    "z_1z_2 = 0\n",
    "$$\n",
    "\n",
    "So,\n",
    "\n",
    "$$\n",
    "z_1 = 0 \\lor z_2 = 0\n",
    "$$\n",
    "\n",
    "Then,\n",
    "\n",
    "$$\n",
    "z_1 = 0 \\lor z_2 = 0 \\lor z_3 = 0\n",
    "$$\n",
    "\n",
    "*Case 1: $z_3 = 0$*\n",
    "\n",
    "Suppose,\n",
    "\n",
    "$$\n",
    "z_3 = 0\n",
    "$$\n",
    "\n",
    "Then,\n",
    "\n",
    "$$\n",
    "z_1 = 0 \\lor z_2 = 0 \\lor z_3 = 0\n",
    "$$\n",
    "\n",
    "*End Cases*\n",
    "\n",
    "So, in either case,\n",
    "\n",
    "$$\n",
    "z_1 = 0 \\lor z_2 = 0 \\lor z_3 = 0\n",
    "$$\n",
    "\n",
    "Therefore,\n",
    "\n",
    "$$\n",
    "(z_1z_2z_3 = 0) \\implies (z_1 = 0 \\lor z_2 = 0 \\lor z_3 = 0)\n",
    "$$"
   ]
  },
  {
   "cell_type": "markdown",
   "metadata": {},
   "source": []
  }
 ],
 "metadata": {
  "language_info": {
   "name": "python"
  }
 },
 "nbformat": 4,
 "nbformat_minor": 2
}
