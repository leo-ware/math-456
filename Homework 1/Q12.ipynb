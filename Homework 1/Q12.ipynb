{
 "cells": [
  {
   "cell_type": "markdown",
   "metadata": {},
   "source": [
    "Pages 24 & 25: problem 8"
   ]
  },
  {
   "cell_type": "markdown",
   "metadata": {},
   "source": [
    "**Prove that two nonzero complex numbers $z_1$ and $z_2$ have the same moduli if and only if there are complex numbers $c_1$ and $c_2$ such that $z_1 = c_1c_2$ and $z_2 = c_1\\overline{c_2}$.**"
   ]
  },
  {
   "cell_type": "markdown",
   "metadata": {},
   "source": [
    "To show the equivalence, we must show proofs in both directions."
   ]
  },
  {
   "cell_type": "markdown",
   "metadata": {},
   "source": [
    "*Step 1*\n",
    "\n",
    "Suppose two complex numbers $z_1$ and $z_2$ have the same modulus. Then they can be written as,\n",
    "\n",
    "$$\n",
    "z_1 = \\psi \\exp(i\\pi \\theta_1)\n",
    "$$\n",
    "\n",
    "$$\n",
    "z_2 = \\psi \\exp(i\\pi \\theta_2)\n",
    "$$\n",
    "\n",
    "We would like to show that there exist two complex numbers $c_1$ and $c_2$ such that,\n",
    "\n",
    "$$\n",
    "z_1 = c_2c_2\n",
    "$$\n",
    "\n",
    "$$\n",
    "z_2 = c_1 \\bar{c}_2\n",
    "$$\n",
    "\n",
    "Let $c_1$ and $c_2$ be complex numbers such that for some $\\phi_1$ and $\\phi_2$,\n",
    "\n",
    "$$\n",
    "c_1 = \\sqrt{\\psi}\\exp(i\\pi \\phi_1)\n",
    "$$\n",
    "\n",
    "$$\n",
    "c_2 = \\sqrt{\\psi}\\exp(i\\pi \\phi_2)\n",
    "$$\n",
    "\n",
    "Then,\n",
    "\n",
    "$$\n",
    "\\bar{c}_2 = \\sqrt{\\psi}\\exp(-i\\pi \\phi_2)\n",
    "$$"
   ]
  },
  {
   "cell_type": "markdown",
   "metadata": {},
   "source": [
    "We can simplify the expressions,\n",
    "\n",
    "$$\n",
    "c_1c_2 = \\sqrt{\\psi}\\exp(i\\pi \\phi_1)\\sqrt{\\psi}\\exp(i\\pi \\phi_2)\n",
    "$$\n",
    "\n",
    "$$\n",
    "c_1c_2 = \\psi\\exp(i\\pi (\\phi_1 + \\phi_2))\n",
    "$$\n",
    "\n",
    "And,\n",
    "\n",
    "$$\n",
    "c_1\\bar{c}_2 = \\sqrt{\\psi}\\exp(i\\pi \\phi_1)\\sqrt{\\psi}\\exp(-i\\pi \\phi_2)\n",
    "$$\n",
    "\n",
    "$$\n",
    "c_1\\bar{c}_2 = \\psi\\exp(i\\pi \\phi_1)\\exp(-i\\pi \\phi_2)\n",
    "$$\n",
    "\n",
    "$$\n",
    "c_1\\bar{c}_2 = \\psi\\exp(i\\pi (\\phi_1 - \\phi_2))\n",
    "$$"
   ]
  },
  {
   "cell_type": "markdown",
   "metadata": {},
   "source": [
    "To show that two complex numbers are equal, it suffices to show that the moduli are equal and the angles are equal.\n",
    "\n",
    "$$\n",
    "|c_1c_2| = \\psi = |z_1|\n",
    "$$\n",
    "\n",
    "$$\n",
    "|c_1\\bar{c}_2| = \\psi = |z_2|\n",
    "$$"
   ]
  },
  {
   "cell_type": "markdown",
   "metadata": {},
   "source": [
    "Now, we have to show that we can pick $\\phi_1$, $\\phi_2$ such that the angles are equal. Let $\\mu$ denote the modulus operator.\n",
    "\n",
    "$$\n",
    "\\mu(c_1c_2) = \\mu(\\psi\\exp(i\\pi (\\phi_1 + \\phi_2))) = \\phi_1 + \\phi_2\n",
    "$$\n",
    "\n",
    "$$\n",
    "\\mu(c_1\\bar{c}_2) = \\mu(\\psi\\exp(i\\pi (\\phi_1 - \\phi_2))) = \\phi_1 - \\phi_2\n",
    "$$\n",
    "\n",
    "$$\n",
    "\\mu(z_1) = \\mu(\\psi\\exp(i\\pi \\theta_1)) = \\theta_1\n",
    "$$\n",
    "\n",
    "$$\n",
    "\\mu(z_2) = \\mu(\\psi\\exp(i\\pi \\theta_2)) = \\theta_2\n",
    "$$\n",
    "\n",
    "So, we must show that we can pick $\\phi_1$, $\\phi_2$ such that,\n",
    "\n",
    "$$\n",
    "\\phi_1 + \\phi_2 = \\theta_1\n",
    "$$\n",
    "\n",
    "$$\n",
    "\\phi_1 - \\phi_2 = \\theta_2\n",
    "$$\n",
    "\n",
    "This is a 2x2 linear system with solutions,\n",
    "\n",
    "$$\n",
    "\\phi_1 = {\\theta_1 + \\theta_2 \\over 2}\n",
    "$$\n",
    "\n",
    "$$\n",
    "\\phi_2 = {\\theta_1 - \\theta_2 \\over 2}\n",
    "$$\n",
    "\n",
    "So, $\\phi_1$ and $\\phi_2$ will always exist."
   ]
  },
  {
   "cell_type": "markdown",
   "metadata": {},
   "source": [
    "So, for any $z_1, z_2 \\in \\mathbb{C}$ where $|z_1| = |z_2|$ there exist some  $c_1,c_2 \\in \\mathbb{C}$ such that,\n",
    "\n",
    "$$\n",
    "z_1 = c_1c_2\n",
    "$$\n",
    "\n",
    "$$\n",
    "z_2 = c_1\\bar{c}_2\n",
    "$$"
   ]
  },
  {
   "cell_type": "markdown",
   "metadata": {},
   "source": [
    "*Step 2*\n",
    "\n",
    "Suppose that two complex numbers $z_1$ and $z_2$ can be expressed as, for some $c_1$ and $c_2$,\n",
    "\n",
    "$$\n",
    "z_1 = c_2c_2\n",
    "$$\n",
    "\n",
    "$$\n",
    "z_2 = c_1 \\bar{c}_2\n",
    "$$\n",
    "\n",
    "Then,\n",
    "\n",
    "$$\n",
    "|z_1| = |c_2c_2|\n",
    "$$\n",
    "\n",
    "$$\n",
    "|z_1| = |c_2||c_2|\n",
    "$$\n",
    "\n",
    "$$\n",
    "|z_1| = |c_2||\\bar{c}_2|\n",
    "$$\n",
    "\n",
    "$$\n",
    "|z_1| = |c_2\\bar{c}_2|\n",
    "$$\n",
    "\n",
    "$$\n",
    "|z_1| = |z_2|\n",
    "$$"
   ]
  },
  {
   "cell_type": "markdown",
   "metadata": {},
   "source": [
    "So, $z_1$ and $z_2$ have the same length."
   ]
  },
  {
   "cell_type": "markdown",
   "metadata": {},
   "source": []
  }
 ],
 "metadata": {
  "language_info": {
   "name": "python"
  }
 },
 "nbformat": 4,
 "nbformat_minor": 2
}
