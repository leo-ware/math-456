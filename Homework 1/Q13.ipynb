{
 "cells": [
  {
   "cell_type": "markdown",
   "metadata": {},
   "source": [
    "Pages 24 & 25: problem 10"
   ]
  },
  {
   "cell_type": "markdown",
   "metadata": {},
   "source": [
    "**Use de Moivre’s formula (Sec. 8) to derive the following trigonometric identities:**\n",
    "\n",
    "$$\\cos(3\\theta) = \\cos^3(\\theta) - 3\\cos(\\theta)\\sin^2(\\theta)$$\n",
    "\n",
    "$$\\sin(3\\theta) = 3\\cos^2(\\theta)\\sin(\\theta) - \\sin^3(\\theta)$$"
   ]
  },
  {
   "cell_type": "markdown",
   "metadata": {},
   "source": [
    "By de Moivre's formula,\n",
    "\n",
    "$$\n",
    "\\cos(3\\theta) + i\\sin(3\\theta) = (\\cos(\\theta) + i\\sin(\\theta))^3\n",
    "$$\n",
    "\n",
    "Then,\n",
    "\n",
    "$$\n",
    "\\cos(3\\theta) + i\\sin(3\\theta) = (\\cos(\\theta) + i\\sin(\\theta))^3\n",
    "$$\n",
    "\n",
    "$$\n",
    "\\cos(3\\theta) + i\\sin(3\\theta) =\n",
    "(\n",
    "    \\cos(\\theta)^3 +\n",
    "    3(\\cos(\\theta)^2i\\sin(\\theta)) +\n",
    "    3(\\cos(\\theta)(i\\sin(\\theta))^2) +\n",
    "    (i\\sin(\\theta))^3\n",
    ")\n",
    "$$\n",
    "\n",
    "$$\n",
    "\\cos(3\\theta) + i\\sin(3\\theta) =\n",
    "\\cos(\\theta)^3\n",
    "+ 3i\\cos(\\theta)^2\\sin(\\theta)\n",
    "- 3\\cos(\\theta)\\sin(\\theta)^2\n",
    "- i\\sin(\\theta)^3\n",
    "$$\n",
    "\n",
    "Take the real parts of both sides to get the first formula,\n",
    "\n",
    "$$\n",
    "\\text{Re}(\\cos(3\\theta) + i\\sin(3\\theta)) =\n",
    "\\text{Re}(\n",
    "    \\cos(\\theta)^3\n",
    "    + 3\\cos(\\theta)^2i\\sin(\\theta)\n",
    "    - 3\\cos(\\theta)\\sin(\\theta)^2\n",
    "    - i\\sin(\\theta)^3\n",
    ")\n",
    "$$\n",
    "\n",
    "$$\n",
    "\\cos(3\\theta) =\n",
    "\\cos(\\theta)^3\n",
    "- 3\\cos(\\theta)\\sin(\\theta)^2\n",
    "$$\n",
    "\n",
    "Take the imaginary parts of both sides to get the second formula,\n",
    "\n",
    "$$\n",
    "\\text{Imag}(\\cos(3\\theta) + i\\sin(3\\theta)) =\n",
    "\\text{Imag}(\n",
    "    \\cos(\\theta)^3\n",
    "    + 3i\\cos(\\theta)^2\\sin(\\theta)\n",
    "    - 3\\cos(\\theta)\\sin(\\theta)^2\n",
    "    - i\\sin(\\theta)^3\n",
    ")\n",
    "$$\n",
    "\n",
    "$$\n",
    "\\sin(3\\theta) =\n",
    "    3\\cos(\\theta)^2\\sin(\\theta)\n",
    "    - \\sin(\\theta)^3\n",
    "$$"
   ]
  },
  {
   "cell_type": "markdown",
   "metadata": {},
   "source": []
  }
 ],
 "metadata": {
  "language_info": {
   "name": "python"
  }
 },
 "nbformat": 4,
 "nbformat_minor": 2
}
