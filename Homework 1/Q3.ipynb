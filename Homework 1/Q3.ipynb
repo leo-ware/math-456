{
 "cells": [
  {
   "cell_type": "markdown",
   "metadata": {},
   "source": [
    "Pages 7 & 8: problem 1"
   ]
  },
  {
   "cell_type": "markdown",
   "metadata": {},
   "source": [
    "**1. Reduce each of these quantities to a real number:**"
   ]
  },
  {
   "cell_type": "markdown",
   "metadata": {},
   "source": [
    "**(a)**\n",
    "\n",
    "$$\n",
    "a = {1 + 2i \\over 3 - 4i} + {2 - i \\over 5i}\n",
    "$$\n",
    "\n",
    "By the definition of division,\n",
    "\n",
    "$$\n",
    "a = (1 + 2i){1 \\over 3 - 4i} + (2 - i){1 \\over 5i}\n",
    "$$\n",
    "\n",
    "By the defition of multiplicative inverse,\n",
    "\n",
    "$$\n",
    "{1 \\over 3 - 4i} = {3 + 4i \\over 3^2 + 4^2} = {3 + 4i \\over 9 + 16} = {3 + 4i \\over 25}\n",
    "$$\n",
    "\n",
    "$$\n",
    "{1 \\over 5i} = -{i \\over 5}\n",
    "$$\n",
    "\n",
    "So,\n",
    "\n",
    "$$\n",
    "a = (1 + 2i){3 + 4i \\over 25} + (2 - i)(-{i \\over 5})\n",
    "$$\n",
    "\n",
    "$$\n",
    "a = {3 + 4i + 6i + 8i^2 \\over 25} - {2i - i^2 \\over 5}\n",
    "$$\n",
    "\n",
    "$$\n",
    "a = {3 + 10i - 8 \\over 25} - {2i + 1 \\over 5}\n",
    "$$\n",
    "\n",
    "$$\n",
    "a = {3 + 10i - 8 \\over 25} - {10i + 5 \\over 25}\n",
    "$$\n",
    "\n",
    "$$\n",
    "a = {3 + 10i - 8 - 10i - 5 \\over 25}\n",
    "$$\n",
    "\n",
    "$$\n",
    "a = -{10 \\over 25}\n",
    "$$\n",
    "\n",
    "$$\n",
    "a = -0.4\n",
    "$$"
   ]
  },
  {
   "cell_type": "markdown",
   "metadata": {},
   "source": [
    "**(b)**"
   ]
  },
  {
   "cell_type": "markdown",
   "metadata": {},
   "source": [
    "$$\n",
    "b = {5i \\over (1-i)(2-i)(3 - i)}\n",
    "$$\n",
    "\n",
    "By the definition of multiplicative inverse,\n",
    "\n",
    "$$\n",
    "{1 \\over 1-i} = {1 + i \\over 2}\n",
    "$$\n",
    "\n",
    "$$\n",
    "{1\\over 2 - i} = {2 + i \\over 5}\n",
    "$$\n",
    "\n",
    "$$\n",
    "{1 \\over 3 - i} = {3 + i \\over 10}\n",
    "$$\n",
    "\n",
    "So,\n",
    "\n",
    "$$\n",
    "b = 5i{1 + i \\over 2}{2 + i \\over 5}{3 + i \\over 10}\n",
    "$$\n",
    "\n",
    "$$\n",
    "b = {(-5 + 5i)(2 + i)(3 + i)\\over 100}\n",
    "$$\n",
    "\n",
    "$$\n",
    "b = {(-10 - 5i + 10i -5)(3 + i)\\over 100}\n",
    "$$\n",
    "\n",
    "$$\n",
    "b = {(-15 + 5i)(3 + i)\\over 100}\n",
    "$$\n",
    "\n",
    "$$\n",
    "b = {(-45 - 5 -15i + 15i)\\over 100}\n",
    "$$\n",
    "\n",
    "$$\n",
    "b = {-50 \\over 100}\n",
    "$$\n",
    "\n",
    "$$\n",
    "b = -{1 \\over 2}\n",
    "$$"
   ]
  },
  {
   "cell_type": "markdown",
   "metadata": {},
   "source": [
    "**(c)**\n",
    "\n",
    "$$\n",
    "c = (1 - i)^4\n",
    "$$"
   ]
  },
  {
   "cell_type": "markdown",
   "metadata": {},
   "source": [
    "$$\n",
    "c = (\\sqrt{2}\\exp({7 \\over 4} i \\pi))^4\n",
    "$$\n",
    "\n",
    "$$\n",
    "c = 4\\exp(4{7 \\over 4} i \\pi)\n",
    "$$\n",
    "\n",
    "$$\n",
    "c = 4\\exp(7 i \\pi)\n",
    "$$\n",
    "\n",
    "$$\n",
    "c = -4\n",
    "$$"
   ]
  },
  {
   "cell_type": "code",
   "execution_count": null,
   "metadata": {},
   "outputs": [],
   "source": []
  }
 ],
 "metadata": {
  "kernelspec": {
   "display_name": "venv",
   "language": "python",
   "name": "python3"
  },
  "language_info": {
   "codemirror_mode": {
    "name": "ipython",
    "version": 3
   },
   "file_extension": ".py",
   "mimetype": "text/x-python",
   "name": "python",
   "nbconvert_exporter": "python",
   "pygments_lexer": "ipython3",
   "version": "3.13.1"
  }
 },
 "nbformat": 4,
 "nbformat_minor": 2
}
